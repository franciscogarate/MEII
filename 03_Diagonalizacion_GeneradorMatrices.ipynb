{
 "cells": [
  {
   "cell_type": "markdown",
   "metadata": {},
   "source": [
    "## Generador de ejercicios (desde abajo)"
   ]
  },
  {
   "cell_type": "code",
   "execution_count": 13,
   "metadata": {},
   "outputs": [
    {
     "name": "stdout",
     "output_type": "stream",
     "text": [
      "[[0 1 0]\n",
      " [2 2 2]\n",
      " [2 2 1]]\n",
      "[[ 2.  0.  0.]\n",
      " [ 2. -7.  8.]\n",
      " [ 2. -4.  5.]]\n"
     ]
    },
    {
     "data": {
      "text/plain": [
       "False"
      ]
     },
     "execution_count": 13,
     "metadata": {},
     "output_type": "execute_result"
    }
   ],
   "source": [
    "import numpy as np\n",
    "from numpy.linalg import inv\n",
    "D = np.array([[1,0,0],[0,2,0],[0,0,-3]])\n",
    "P = np.random.randint(3,size=(3,3))\n",
    "print(P)\n",
    "A = P @ D @ inv(P)\n",
    "print(A)\n",
    "es_simetrica = np.array_equal(A, A.T)\n",
    "es_simetrica"
   ]
  },
  {
   "cell_type": "code",
   "execution_count": 2,
   "metadata": {},
   "outputs": [
    {
     "name": "stdout",
     "output_type": "stream",
     "text": [
      "Matriz D:\n",
      "[[0 0 0]\n",
      " [0 0 0]\n",
      " [0 0 1]]\n",
      "Matriz P:\n",
      "[[ 0  1  1]\n",
      " [ 0 -1  0]\n",
      " [ 1  0  1]]\n",
      "Matriz A:\n",
      "[[1. 1. 0.]\n",
      " [0. 0. 0.]\n",
      " [1. 1. 0.]]\n"
     ]
    },
    {
     "data": {
      "text/plain": [
       "False"
      ]
     },
     "execution_count": 2,
     "metadata": {},
     "output_type": "execute_result"
    }
   ],
   "source": [
    "import numpy as np\n",
    "from numpy.linalg import inv\n",
    "a = np.random.randint(5)\n",
    "b = a + 1\n",
    "D = np.array([[a,0,0],[0,-a,0],[0,0,1]])\n",
    "print('Matriz D:')\n",
    "print(D)\n",
    "#P = np.random.randint(3,size=(3,3))\n",
    "print('Matriz P:')\n",
    "P = np.array([[0,1,1],[0,-1,0],[1,0,1]])\n",
    "print(P)\n",
    "A = P @ D @ inv(P)\n",
    "print('Matriz A:')\n",
    "print(A)\n",
    "es_simetrica = np.array_equal(A, A.T)\n",
    "es_simetrica"
   ]
  },
  {
   "cell_type": "code",
   "execution_count": 83,
   "metadata": {},
   "outputs": [
    {
     "name": "stdout",
     "output_type": "stream",
     "text": [
      "[[ 1.  1.  0.]\n",
      " [ 0.  2.  0.]\n",
      " [ 3. -3. -2.]]\n"
     ]
    }
   ],
   "source": [
    "D = np.array([[-2,0,0],[0,2,0],[0,0,1]])\n",
    "P = np.array([[0,-1,1],[0,-1,0],[1,0,1]])\n",
    "A = P @ D @ inv(P)\n",
    "print(A)"
   ]
  },
  {
   "cell_type": "code",
   "execution_count": 12,
   "metadata": {},
   "outputs": [
    {
     "name": "stdout",
     "output_type": "stream",
     "text": [
      "Matriz P:\n",
      "[[ 0 -1  1]\n",
      " [ 0  1  0]\n",
      " [ 1  0  0]]\n",
      "Matriz A:\n",
      "[[4. 3. 0.]\n",
      " [0. 1. 0.]\n",
      " [0. 0. 0.]]\n",
      "La matriz no es simétrica. Repitiendo...\n",
      "Matriz P:\n",
      "[[ 0 -1  1]\n",
      " [ 0  1  0]\n",
      " [ 1  0  0]]\n",
      "Matriz A:\n",
      "[[ 0. -2.  0.]\n",
      " [ 0.  2.  0.]\n",
      " [ 0.  0.  3.]]\n",
      "La matriz no es simétrica. Repitiendo...\n",
      "Matriz P:\n",
      "[[ 0 -1  1]\n",
      " [ 0  1  0]\n",
      " [ 1  0  0]]\n",
      "Matriz A:\n",
      "[[ 0. -1.  0.]\n",
      " [ 0.  1.  0.]\n",
      " [ 0.  0.  2.]]\n",
      "La matriz no es simétrica. Repitiendo...\n",
      "Matriz P:\n",
      "[[ 0 -1  1]\n",
      " [ 0  1  0]\n",
      " [ 1  0  0]]\n",
      "Matriz A:\n",
      "[[1. 0. 0.]\n",
      " [0. 1. 0.]\n",
      " [0. 0. 0.]]\n",
      "La matriz es simétrica.\n"
     ]
    }
   ],
   "source": [
    "es_simetrica = False\n",
    "\n",
    "while not es_simetrica:\n",
    "    D = np.array([[np.random.randint(5), 0, 0], [0, np.random.randint(5), 0], [0, 0, np.random.randint(5)]])\n",
    "    #P = np.random.randint(5, size=(3, 3))\n",
    "    P = np.array([[0,-1,1],[0,1,0],[1,0,0]])\n",
    "    print(\"Matriz P:\")\n",
    "    print(P)\n",
    "    try:\n",
    "        A = P @ D @ inv(P)\n",
    "    except: \n",
    "        pass\n",
    "    print(\"Matriz A:\")\n",
    "    print(A)\n",
    "    es_simetrica = np.array_equal(A, A.T)\n",
    "    if es_simetrica:\n",
    "        print(\"La matriz es simétrica.\")\n",
    "    else:\n",
    "        print(\"La matriz no es simétrica. Repitiendo...\")"
   ]
  }
 ],
 "metadata": {
  "kernelspec": {
   "display_name": "Python 3 (ipykernel)",
   "language": "python",
   "name": "python3"
  },
  "language_info": {
   "codemirror_mode": {
    "name": "ipython",
    "version": 3
   },
   "file_extension": ".py",
   "mimetype": "text/x-python",
   "name": "python",
   "nbconvert_exporter": "python",
   "pygments_lexer": "ipython3",
   "version": "3.8.10"
  }
 },
 "nbformat": 4,
 "nbformat_minor": 4
}
