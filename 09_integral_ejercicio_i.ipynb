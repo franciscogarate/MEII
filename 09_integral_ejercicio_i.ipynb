{
 "cells": [
  {
   "cell_type": "code",
   "execution_count": null,
   "id": "90b308ca",
   "metadata": {},
   "outputs": [],
   "source": [
    "import matplotlib.pyplot as plt\n",
    "import numpy as np"
   ]
  },
  {
   "cell_type": "code",
   "execution_count": null,
   "id": "062f131d",
   "metadata": {},
   "outputs": [],
   "source": [
    "# Definir la función y los valores de x\n",
    "x = np.linspace(-1.5, 1.5, 1000)\n",
    "y1 = x\n",
    "y2 = np.sqrt(2 - x**2)\n",
    "y3 = -np.sqrt(2 - x**2)\n",
    "y4 = np.zeros_like(x)+0.02"
   ]
  },
  {
   "cell_type": "code",
   "execution_count": null,
   "id": "5128618b",
   "metadata": {},
   "outputs": [],
   "source": [
    "# Crear la figura y los ejes\n",
    "fig, ax = plt.subplots()"
   ]
  },
  {
   "cell_type": "code",
   "execution_count": null,
   "id": "96e3f040",
   "metadata": {},
   "outputs": [],
   "source": [
    "# Configurar la figura\n",
    "ax.spines['left'].set_position('zero')\n",
    "ax.spines['bottom'].set_position('zero')\n",
    "ax.spines['right'].set_color('none')\n",
    "ax.spines['top'].set_color('none')\n",
    "ax.xaxis.set_ticks_position('bottom')\n",
    "ax.yaxis.set_ticks_position('left')\n",
    "ax.spines['left'].set_color('black')\n",
    "ax.spines['bottom'].set_color('black')"
   ]
  },
  {
   "cell_type": "code",
   "execution_count": null,
   "id": "42850c26",
   "metadata": {},
   "outputs": [],
   "source": [
    "# Graficar las funciones\n",
    "ax.plot(x, y1, label='$y = x$')\n",
    "ax.plot(x, y2, label='$x^2 + y^2 = 2$')\n",
    "ax.plot(x, y3, label='$x^2 + y^2 = 2$')\n",
    "ax.plot(x, y4, label='$y = 0$')\n",
    "ax.axvline(0, color='green')\n",
    "ax.axhline(0, color='green')"
   ]
  },
  {
   "cell_type": "code",
   "execution_count": null,
   "id": "0ed4f65e",
   "metadata": {},
   "outputs": [],
   "source": [
    "# Configurar los ejes y la leyenda\n",
    "ax.set_xlim([-1.5, 1.5])\n",
    "ax.set_ylim([-1.5, 1.5])\n",
    "ax.legend()"
   ]
  },
  {
   "cell_type": "code",
   "execution_count": null,
   "id": "fc166481",
   "metadata": {},
   "outputs": [],
   "source": [
    "# Mostrar la figura\n",
    "plt.show()"
   ]
  }
 ],
 "metadata": {
  "jupytext": {
   "cell_metadata_filter": "-all",
   "main_language": "python",
   "notebook_metadata_filter": "-all"
  }
 },
 "nbformat": 4,
 "nbformat_minor": 5
}
