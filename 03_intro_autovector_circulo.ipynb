{
 "cells": [
  {
   "cell_type": "code",
   "execution_count": null,
   "id": "fd04f9fb",
   "metadata": {},
   "outputs": [],
   "source": [
    "import numpy as np\n",
    "import matplotlib.pyplot as plt\n",
    "from matplotlib.patches import Ellipse, Circle\n",
    "import matplotlib.transforms as transforms"
   ]
  },
  {
   "cell_type": "code",
   "execution_count": null,
   "id": "a45b8376",
   "metadata": {},
   "outputs": [],
   "source": [
    "angle_step = 45  # degrees\n",
    "angles = np.arange(0, 180, angle_step)"
   ]
  },
  {
   "cell_type": "code",
   "execution_count": null,
   "id": "d21b5163",
   "metadata": {},
   "outputs": [],
   "source": [
    "fig, ax = plt.subplots(subplot_kw={'aspect': 'equal'})"
   ]
  },
  {
   "cell_type": "code",
   "execution_count": null,
   "id": "1e9d870f",
   "metadata": {},
   "outputs": [],
   "source": [
    "i = Ellipse((0, 0), 3, 0.5, angle=0, alpha=0.1)\n",
    "ii = Circle((0,0),1, alpha=0.1)\n",
    "#circle=plt.Circle((0,0),2)\n",
    "ax.add_artist(i)\n",
    "ax.add_artist(ii)"
   ]
  },
  {
   "cell_type": "code",
   "execution_count": null,
   "id": "09d0b66b",
   "metadata": {},
   "outputs": [],
   "source": [
    "ax.set_xlim(-2.2, 2.2)\n",
    "ax.set_ylim(-2.2, 2.2)"
   ]
  },
  {
   "cell_type": "code",
   "execution_count": null,
   "id": "bbad2d9b",
   "metadata": {},
   "outputs": [],
   "source": [
    "plt.show()"
   ]
  }
 ],
 "metadata": {
  "jupytext": {
   "cell_metadata_filter": "-all",
   "main_language": "python",
   "notebook_metadata_filter": "-all"
  }
 },
 "nbformat": 4,
 "nbformat_minor": 5
}
