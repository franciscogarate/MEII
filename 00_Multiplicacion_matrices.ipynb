{
 "cells": [
  {
   "cell_type": "markdown",
   "id": "5e0e9661",
   "metadata": {},
   "source": [
    "## Ejemplo multiplicación de matrices"
   ]
  },
  {
   "cell_type": "code",
   "execution_count": 1,
   "id": "59ec3891",
   "metadata": {},
   "outputs": [],
   "source": [
    "import numpy as np"
   ]
  },
  {
   "cell_type": "markdown",
   "id": "49947e8e",
   "metadata": {},
   "source": [
    "Dadas las matriz A=$\\begin{pmatrix}\n",
    "4 & 2 & 1\\\\\n",
    "1 & 0 & 3\n",
    "\\end{pmatrix}$\n",
    "y B=$\\begin{pmatrix}\n",
    "3 & 1\\\\\n",
    "1 & 1\\\\\n",
    "1 & 2\n",
    "\\end{pmatrix}$. Hallar A $\\cdot$ B:"
   ]
  },
  {
   "cell_type": "code",
   "execution_count": 2,
   "id": "825923c1",
   "metadata": {},
   "outputs": [],
   "source": [
    "A = np.array([[4,2,1],[1,0,3]])\n",
    "B = np.array([[3,1],[1,1],[1,2]])"
   ]
  },
  {
   "cell_type": "code",
   "execution_count": 3,
   "id": "a667b553",
   "metadata": {},
   "outputs": [
    {
     "data": {
      "text/plain": [
       "array([[4, 2, 1],\n",
       "       [1, 0, 3]])"
      ]
     },
     "execution_count": 3,
     "metadata": {},
     "output_type": "execute_result"
    }
   ],
   "source": [
    "A"
   ]
  },
  {
   "cell_type": "code",
   "execution_count": 4,
   "id": "5e477795",
   "metadata": {},
   "outputs": [
    {
     "data": {
      "text/plain": [
       "array([[3, 1],\n",
       "       [1, 1],\n",
       "       [1, 2]])"
      ]
     },
     "execution_count": 4,
     "metadata": {},
     "output_type": "execute_result"
    }
   ],
   "source": [
    "B"
   ]
  },
  {
   "cell_type": "markdown",
   "id": "af102582",
   "metadata": {},
   "source": [
    "Chequeamos que los tamaños permitan la multiplificación (la matriz resultante sería 2x2)"
   ]
  },
  {
   "cell_type": "code",
   "execution_count": 5,
   "id": "89b85bf3",
   "metadata": {},
   "outputs": [
    {
     "data": {
      "text/plain": [
       "(2, 3)"
      ]
     },
     "execution_count": 5,
     "metadata": {},
     "output_type": "execute_result"
    }
   ],
   "source": [
    "A.shape"
   ]
  },
  {
   "cell_type": "code",
   "execution_count": 6,
   "id": "34c3dcb3",
   "metadata": {},
   "outputs": [
    {
     "data": {
      "text/plain": [
       "(3, 2)"
      ]
     },
     "execution_count": 6,
     "metadata": {},
     "output_type": "execute_result"
    }
   ],
   "source": [
    "B.shape"
   ]
  },
  {
   "cell_type": "code",
   "execution_count": 7,
   "id": "f23dff7b",
   "metadata": {},
   "outputs": [
    {
     "data": {
      "text/plain": [
       "array([[15,  8],\n",
       "       [ 6,  7]])"
      ]
     },
     "execution_count": 7,
     "metadata": {},
     "output_type": "execute_result"
    }
   ],
   "source": [
    "A@B"
   ]
  },
  {
   "cell_type": "markdown",
   "id": "0fae5ad3",
   "metadata": {},
   "source": [
    "### Ejercicio 1\n",
    "$Calcular:\n",
    "\\begin{pmatrix}\n",
    "1 & 3 & 1\\\\\n",
    "1 & 0 & 3\\\\\n",
    "1 & -1 & 1\n",
    "\\end{pmatrix}\n",
    "\\cdot\n",
    "\\begin{pmatrix}\n",
    "1 & 2 & 3\\\\\n",
    "3 & -3 & 1\\\\\n",
    "2 & 3 & 1\n",
    "\\end{pmatrix}\n",
    "$"
   ]
  },
  {
   "cell_type": "code",
   "execution_count": 8,
   "id": "66b19ee5",
   "metadata": {},
   "outputs": [
    {
     "data": {
      "text/plain": [
       "(array([[ 1,  3,  1],\n",
       "        [ 1,  0,  3],\n",
       "        [ 1, -1,  1]]),\n",
       " array([[ 1,  2,  3],\n",
       "        [ 3, -3,  1],\n",
       "        [ 2,  3,  1]]),\n",
       " array([[12, -4,  7],\n",
       "        [ 7, 11,  6],\n",
       "        [ 0,  8,  3]]))"
      ]
     },
     "execution_count": 8,
     "metadata": {},
     "output_type": "execute_result"
    }
   ],
   "source": [
    "A = np.array([[1,3,1],[1,0,3],[1,-1,1]])\n",
    "B = np.array([[1,2,3],[3,-3,1],[2,3,1]])\n",
    "A, B, A@B"
   ]
  },
  {
   "cell_type": "markdown",
   "id": "4a6b3cda",
   "metadata": {},
   "source": [
    "### Ejercicio 2\n",
    "$Calcular: \\begin{pmatrix}\n",
    "3 & 2 & 1\\\\\n",
    "3 & 2 & 1\\\\\n",
    "2 & -1 & 1\n",
    "\\end{pmatrix}\n",
    "\\cdot\n",
    "\\begin{pmatrix}\n",
    "1 \\\\\n",
    "-1 \\\\\n",
    "-2\n",
    "\\end{pmatrix}\n",
    "$"
   ]
  },
  {
   "cell_type": "code",
   "execution_count": 9,
   "id": "e6db669f",
   "metadata": {},
   "outputs": [
    {
     "data": {
      "text/plain": [
       "(array([[ 3,  2,  1],\n",
       "        [ 3,  2,  1],\n",
       "        [ 2, -1,  1]]),\n",
       " array([[ 1],\n",
       "        [-1],\n",
       "        [-2]]),\n",
       " array([[-1],\n",
       "        [-1],\n",
       "        [ 1]]))"
      ]
     },
     "execution_count": 9,
     "metadata": {},
     "output_type": "execute_result"
    }
   ],
   "source": [
    "A = np.array([[3,2,1],[3,2,1],[2,-1,1]])\n",
    "B = np.array([[1],[-1],[-2]])\n",
    "A, B, A@B"
   ]
  },
  {
   "cell_type": "markdown",
   "id": "6f5287e1",
   "metadata": {},
   "source": [
    "### Ejercicio 3\n",
    "$Calcular: \\begin{pmatrix}\n",
    "-2 & \\frac{1}{2} & 4\\\\\n",
    "2 & 4 & -1\\\\\n",
    "2 & -1 & 3\n",
    "\\end{pmatrix}\n",
    "\\cdot\n",
    "\\begin{pmatrix}\n",
    "2 & 4 & 1\\\\\n",
    "-1 & 2 & 4\\\\\n",
    "2 & -2 & 1\n",
    "\\end{pmatrix}\n",
    "$"
   ]
  },
  {
   "cell_type": "code",
   "execution_count": 10,
   "id": "ec211271",
   "metadata": {},
   "outputs": [
    {
     "data": {
      "text/plain": [
       "(array([[-2. ,  0.5,  4. ],\n",
       "        [ 2. ,  4. , -1. ],\n",
       "        [ 2. , -1. ,  3. ]]),\n",
       " array([[ 2,  4,  1],\n",
       "        [-1,  2,  4],\n",
       "        [ 2, -2,  1]]),\n",
       " array([[  3.5, -15. ,   4. ],\n",
       "        [ -2. ,  18. ,  17. ],\n",
       "        [ 11. ,   0. ,   1. ]]))"
      ]
     },
     "execution_count": 10,
     "metadata": {},
     "output_type": "execute_result"
    }
   ],
   "source": [
    "A = np.array([[-2,0.5,4],[2,4,-1],[2,-1,3]])\n",
    "B = np.array([[2,4,1],[-1,2,4],[2,-2,1]])\n",
    "A, B, A@B"
   ]
  },
  {
   "cell_type": "markdown",
   "id": "fb4cc82c",
   "metadata": {},
   "source": [
    "### Ejercicio 4"
   ]
  },
  {
   "cell_type": "code",
   "execution_count": 1,
   "id": "366bf524",
   "metadata": {},
   "outputs": [
    {
     "data": {
      "text/plain": [
       "(array([[ 2,  4,  5],\n",
       "        [ 0,  3, -2]]),\n",
       " array([[ 0,  1, -1],\n",
       "        [ 1, -2,  2],\n",
       "        [ 3,  0, -1]]),\n",
       " array([[19, -6,  1],\n",
       "        [-3, -6,  8]]))"
      ]
     },
     "execution_count": 1,
     "metadata": {},
     "output_type": "execute_result"
    }
   ],
   "source": [
    "import numpy as np\n",
    "A = np.array([[2,4,5],[0,3,-2]])\n",
    "B = np.array([[0,1,-1],[1,-2,2],[3,0,-1]])\n",
    "A, B, A@B"
   ]
  },
  {
   "cell_type": "code",
   "execution_count": null,
   "id": "632b47be",
   "metadata": {},
   "outputs": [],
   "source": []
  }
 ],
 "metadata": {
  "kernelspec": {
   "display_name": "Python 3 (ipykernel)",
   "language": "python",
   "name": "python3"
  },
  "language_info": {
   "codemirror_mode": {
    "name": "ipython",
    "version": 3
   },
   "file_extension": ".py",
   "mimetype": "text/x-python",
   "name": "python",
   "nbconvert_exporter": "python",
   "pygments_lexer": "ipython3",
   "version": "3.8.10"
  }
 },
 "nbformat": 4,
 "nbformat_minor": 5
}
