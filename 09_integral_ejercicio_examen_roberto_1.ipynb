{
 "cells": [
  {
   "cell_type": "code",
   "execution_count": null,
   "id": "5a01f667",
   "metadata": {},
   "outputs": [],
   "source": [
    "import matplotlib.pyplot as plt\n",
    "import numpy as np"
   ]
  },
  {
   "cell_type": "code",
   "execution_count": null,
   "id": "935c4d7e",
   "metadata": {},
   "outputs": [],
   "source": [
    "# Definimos las funciones y los valores de x\n",
    "y = np.linspace(-5, 5, 1000)\n",
    "x = y**2\n",
    "y2 = (x-3)/(2)"
   ]
  },
  {
   "cell_type": "code",
   "execution_count": null,
   "id": "4d071c13",
   "metadata": {},
   "outputs": [],
   "source": [
    "# Creamos la figura y los ejes\n",
    "fig, ax = plt.subplots()"
   ]
  },
  {
   "cell_type": "code",
   "execution_count": null,
   "id": "e94674d0",
   "metadata": {},
   "outputs": [],
   "source": [
    "# Configurar la figura\n",
    "ax.spines['left'].set_position('zero')  # mover el eje y al centro\n",
    "ax.spines['bottom'].set_position('zero')  # mover el eje x al centro\n",
    "ax.spines['right'].set_color('none')  # ocultar el borde derecho\n",
    "ax.spines['top'].set_color('none')  # ocultar el borde superior\n",
    "ax.xaxis.set_ticks_position('bottom')  # ubicar las marcas del eje x en la parte inferior\n",
    "ax.yaxis.set_ticks_position('left')  # ubicar las marcas del eje y en la parte izquierda\n",
    "ax.spines['left'].set_color('black')  # establecer el color del eje y en negro\n",
    "ax.spines['bottom'].set_color('black')  # establecer el color del eje x en negro"
   ]
  },
  {
   "cell_type": "code",
   "execution_count": null,
   "id": "c0cbcb2d",
   "metadata": {},
   "outputs": [],
   "source": [
    "# Graficamos las funciones\n",
    "ax.plot(x, y, label='$x=y^2$')\n",
    "ax.plot(x, y2, label='$x-2y=3$')"
   ]
  },
  {
   "cell_type": "code",
   "execution_count": null,
   "id": "3c6d3473",
   "metadata": {
    "lines_to_next_cell": 2
   },
   "outputs": [],
   "source": [
    "# Configuramos los ejes y la leyenda\n",
    "ax.set_xlim([-1, 10])\n",
    "ax.set_ylim([-5, 5])\n",
    "ax.legend()"
   ]
  },
  {
   "cell_type": "code",
   "execution_count": null,
   "id": "7d93e71b",
   "metadata": {},
   "outputs": [],
   "source": [
    "# Mostramos la figura\n",
    "fig.set_size_inches(5, 5)\n",
    "plt.savefig('../images/fig7_ejer_examen_roberto_1.png', format='png', transparent=True)\n",
    "#plt.show()"
   ]
  }
 ],
 "metadata": {
  "jupytext": {
   "cell_metadata_filter": "-all",
   "main_language": "python",
   "notebook_metadata_filter": "-all"
  }
 },
 "nbformat": 4,
 "nbformat_minor": 5
}
