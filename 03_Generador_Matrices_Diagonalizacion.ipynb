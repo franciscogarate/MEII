{
 "cells": [
  {
   "cell_type": "code",
   "execution_count": 1447,
   "id": "015d271c-334b-4030-a7b1-d060578a25af",
   "metadata": {},
   "outputs": [
    {
     "name": "stdout",
     "output_type": "stream",
     "text": [
      "[[0 1 0]\n",
      " [2 0 2]\n",
      " [1 2 1]]\n",
      "La matriz es:....\n"
     ]
    },
    {
     "ename": "LinAlgError",
     "evalue": "Singular matrix",
     "output_type": "error",
     "traceback": [
      "\u001b[0;31m---------------------------------------------------------------------------\u001b[0m",
      "\u001b[0;31mLinAlgError\u001b[0m                               Traceback (most recent call last)",
      "\u001b[0;32m/tmp/ipykernel_25131/3830999797.py\u001b[0m in \u001b[0;36m<module>\u001b[0;34m\u001b[0m\n\u001b[1;32m      5\u001b[0m \u001b[0mprint\u001b[0m\u001b[0;34m(\u001b[0m\u001b[0mP\u001b[0m\u001b[0;34m)\u001b[0m\u001b[0;34m\u001b[0m\u001b[0;34m\u001b[0m\u001b[0m\n\u001b[1;32m      6\u001b[0m \u001b[0mprint\u001b[0m\u001b[0;34m(\u001b[0m\u001b[0;34m'La matriz es:....'\u001b[0m\u001b[0;34m)\u001b[0m\u001b[0;34m\u001b[0m\u001b[0;34m\u001b[0m\u001b[0m\n\u001b[0;32m----> 7\u001b[0;31m \u001b[0mA\u001b[0m \u001b[0;34m=\u001b[0m \u001b[0mP\u001b[0m \u001b[0;34m@\u001b[0m \u001b[0mD\u001b[0m \u001b[0;34m@\u001b[0m \u001b[0minv\u001b[0m\u001b[0;34m(\u001b[0m\u001b[0mP\u001b[0m\u001b[0;34m)\u001b[0m\u001b[0;34m\u001b[0m\u001b[0;34m\u001b[0m\u001b[0m\n\u001b[0m\u001b[1;32m      8\u001b[0m \u001b[0mprint\u001b[0m\u001b[0;34m(\u001b[0m\u001b[0mA\u001b[0m\u001b[0;34m)\u001b[0m\u001b[0;34m\u001b[0m\u001b[0;34m\u001b[0m\u001b[0m\n\u001b[1;32m      9\u001b[0m \u001b[0;31m#Chequeo\u001b[0m\u001b[0;34m\u001b[0m\u001b[0;34m\u001b[0m\u001b[0;34m\u001b[0m\u001b[0m\n",
      "\u001b[0;32m~/.local/lib/python3.8/site-packages/numpy/core/overrides.py\u001b[0m in \u001b[0;36minv\u001b[0;34m(*args, **kwargs)\u001b[0m\n",
      "\u001b[0;32m~/.local/lib/python3.8/site-packages/numpy/linalg/linalg.py\u001b[0m in \u001b[0;36minv\u001b[0;34m(a)\u001b[0m\n\u001b[1;32m    536\u001b[0m     \u001b[0msignature\u001b[0m \u001b[0;34m=\u001b[0m \u001b[0;34m'D->D'\u001b[0m \u001b[0;32mif\u001b[0m \u001b[0misComplexType\u001b[0m\u001b[0;34m(\u001b[0m\u001b[0mt\u001b[0m\u001b[0;34m)\u001b[0m \u001b[0;32melse\u001b[0m \u001b[0;34m'd->d'\u001b[0m\u001b[0;34m\u001b[0m\u001b[0;34m\u001b[0m\u001b[0m\n\u001b[1;32m    537\u001b[0m     \u001b[0mextobj\u001b[0m \u001b[0;34m=\u001b[0m \u001b[0mget_linalg_error_extobj\u001b[0m\u001b[0;34m(\u001b[0m\u001b[0m_raise_linalgerror_singular\u001b[0m\u001b[0;34m)\u001b[0m\u001b[0;34m\u001b[0m\u001b[0;34m\u001b[0m\u001b[0m\n\u001b[0;32m--> 538\u001b[0;31m     \u001b[0mainv\u001b[0m \u001b[0;34m=\u001b[0m \u001b[0m_umath_linalg\u001b[0m\u001b[0;34m.\u001b[0m\u001b[0minv\u001b[0m\u001b[0;34m(\u001b[0m\u001b[0ma\u001b[0m\u001b[0;34m,\u001b[0m \u001b[0msignature\u001b[0m\u001b[0;34m=\u001b[0m\u001b[0msignature\u001b[0m\u001b[0;34m,\u001b[0m \u001b[0mextobj\u001b[0m\u001b[0;34m=\u001b[0m\u001b[0mextobj\u001b[0m\u001b[0;34m)\u001b[0m\u001b[0;34m\u001b[0m\u001b[0;34m\u001b[0m\u001b[0m\n\u001b[0m\u001b[1;32m    539\u001b[0m     \u001b[0;32mreturn\u001b[0m \u001b[0mwrap\u001b[0m\u001b[0;34m(\u001b[0m\u001b[0mainv\u001b[0m\u001b[0;34m.\u001b[0m\u001b[0mastype\u001b[0m\u001b[0;34m(\u001b[0m\u001b[0mresult_t\u001b[0m\u001b[0;34m,\u001b[0m \u001b[0mcopy\u001b[0m\u001b[0;34m=\u001b[0m\u001b[0;32mFalse\u001b[0m\u001b[0;34m)\u001b[0m\u001b[0;34m)\u001b[0m\u001b[0;34m\u001b[0m\u001b[0;34m\u001b[0m\u001b[0m\n\u001b[1;32m    540\u001b[0m \u001b[0;34m\u001b[0m\u001b[0m\n",
      "\u001b[0;32m~/.local/lib/python3.8/site-packages/numpy/linalg/linalg.py\u001b[0m in \u001b[0;36m_raise_linalgerror_singular\u001b[0;34m(err, flag)\u001b[0m\n\u001b[1;32m     87\u001b[0m \u001b[0;34m\u001b[0m\u001b[0m\n\u001b[1;32m     88\u001b[0m \u001b[0;32mdef\u001b[0m \u001b[0m_raise_linalgerror_singular\u001b[0m\u001b[0;34m(\u001b[0m\u001b[0merr\u001b[0m\u001b[0;34m,\u001b[0m \u001b[0mflag\u001b[0m\u001b[0;34m)\u001b[0m\u001b[0;34m:\u001b[0m\u001b[0;34m\u001b[0m\u001b[0;34m\u001b[0m\u001b[0m\n\u001b[0;32m---> 89\u001b[0;31m     \u001b[0;32mraise\u001b[0m \u001b[0mLinAlgError\u001b[0m\u001b[0;34m(\u001b[0m\u001b[0;34m\"Singular matrix\"\u001b[0m\u001b[0;34m)\u001b[0m\u001b[0;34m\u001b[0m\u001b[0;34m\u001b[0m\u001b[0m\n\u001b[0m\u001b[1;32m     90\u001b[0m \u001b[0;34m\u001b[0m\u001b[0m\n\u001b[1;32m     91\u001b[0m \u001b[0;32mdef\u001b[0m \u001b[0m_raise_linalgerror_nonposdef\u001b[0m\u001b[0;34m(\u001b[0m\u001b[0merr\u001b[0m\u001b[0;34m,\u001b[0m \u001b[0mflag\u001b[0m\u001b[0;34m)\u001b[0m\u001b[0;34m:\u001b[0m\u001b[0;34m\u001b[0m\u001b[0;34m\u001b[0m\u001b[0m\n",
      "\u001b[0;31mLinAlgError\u001b[0m: Singular matrix"
     ]
    }
   ],
   "source": [
    "import numpy as np\n",
    "from numpy.linalg import inv\n",
    "D = np.array([[1,0,0],[0,1,0],[0,0,-2]])\n",
    "P = np.random.randint(3,size=(3,3))\n",
    "print(P)\n",
    "print('La matriz es:....')\n",
    "A = P @ D @ inv(P)\n",
    "print(A)\n",
    "#Chequeo\n",
    "autovalores = np.linalg.eigvals(A)\n",
    "\n",
    "print(\"Los autovalores de la matriz A son:\", autovalores)\n",
    "\n",
    "#Autovectores\n",
    "autovalores, autovectores = np.linalg.eig(A)\n",
    "\n",
    "for i in range(len(autovalores)):\n",
    "    print(\"Autovalor:\", autovalores[i])\n",
    "    print(\"Autovector asociado:\", autovectores[:,i])\n",
    "    print()"
   ]
  },
  {
   "cell_type": "code",
   "execution_count": 2,
   "id": "f1236c6a-fab9-451c-8e82-c84a7ebe8507",
   "metadata": {},
   "outputs": [
    {
     "name": "stdout",
     "output_type": "stream",
     "text": [
      "[[ 2. -6.  6.]\n",
      " [ 0. -4.  6.]\n",
      " [ 0. -3.  5.]]\n",
      "Los autovalores de la matriz A son: [ 2. -1.  2.]\n"
     ]
    }
   ],
   "source": [
    "import numpy as np\n",
    "B = np.array([[ 2., -6.,  6.], [ 0., -4.,  6.], [ 0., -3.,  5.]])\n",
    "print(B)\n",
    "#Chequeo\n",
    "autovalores = np.linalg.eigvals(B)\n",
    "\n",
    "print(\"Los autovalores de la matriz A son:\", autovalores)"
   ]
  },
  {
   "cell_type": "code",
   "execution_count": 3,
   "id": "7ce451b6-23ae-48b4-9500-ddeaa7a9cc5f",
   "metadata": {},
   "outputs": [
    {
     "name": "stdout",
     "output_type": "stream",
     "text": [
      "Autovalor: 2.0\n",
      "Autovector asociado: [1. 0. 0.]\n",
      "\n",
      "Autovalor: -1.0\n",
      "Autovector asociado: [-0.66666667 -0.66666667 -0.33333333]\n",
      "\n",
      "Autovalor: 2.0\n",
      "Autovector asociado: [ 0.         -0.70710678 -0.70710678]\n",
      "\n"
     ]
    }
   ],
   "source": [
    "#Autovectores\n",
    "autovalores, autovectores = np.linalg.eig(B)\n",
    "\n",
    "for i in range(len(autovalores)):\n",
    "    print(\"Autovalor:\", autovalores[i])\n",
    "    print(\"Autovector asociado:\", autovectores[:,i])\n",
    "    print()"
   ]
  },
  {
   "cell_type": "code",
   "execution_count": 674,
   "id": "e43aa255-ebe8-47f9-9a32-677cc6d5ef11",
   "metadata": {},
   "outputs": [
    {
     "data": {
      "text/plain": [
       "False"
      ]
     },
     "execution_count": 674,
     "metadata": {},
     "output_type": "execute_result"
    }
   ],
   "source": [
    "es_simetrica = np.array_equal(A, A.T)\n",
    "es_simetrica"
   ]
  },
  {
   "cell_type": "code",
   "execution_count": 516,
   "id": "a92484b2-b815-4d9a-9934-7e0bbeb1f78c",
   "metadata": {},
   "outputs": [
    {
     "data": {
      "text/plain": [
       "0.7071067811865476"
      ]
     },
     "execution_count": 516,
     "metadata": {},
     "output_type": "execute_result"
    }
   ],
   "source": [
    "0.5 ** (1/2)"
   ]
  },
  {
   "cell_type": "code",
   "execution_count": 195,
   "id": "d2bbfe46-9c33-4f2f-baf2-945182516fd7",
   "metadata": {},
   "outputs": [],
   "source": [
    "B = np.array([[ 3., -2., -2.],  [ 2., -1., -2.],  [ 2., -2., -1.]])"
   ]
  },
  {
   "cell_type": "code",
   "execution_count": 136,
   "id": "cf7c2407-5963-45ba-9f53-86964f626266",
   "metadata": {},
   "outputs": [
    {
     "name": "stdout",
     "output_type": "stream",
     "text": [
      "True\n"
     ]
    }
   ],
   "source": [
    "def son_todos_enteros(matriz):\n",
    "    return all(isinstance(elemento, int) for fila in matriz for elemento in fila)\n",
    "\n",
    "matriz = [[1, 2, 3], [4, 5, 6]]\n",
    "resultado = son_todos_enteros(matriz)\n",
    "print(resultado)  # Salida: True"
   ]
  },
  {
   "cell_type": "code",
   "execution_count": 137,
   "id": "3ccdde9a-1b5a-4ada-8f79-85e6be6ce50c",
   "metadata": {},
   "outputs": [
    {
     "name": "stdout",
     "output_type": "stream",
     "text": [
      "False\n"
     ]
    }
   ],
   "source": [
    "print(son_todos_enteros(A))"
   ]
  },
  {
   "cell_type": "code",
   "execution_count": null,
   "id": "ab0551e5-83bd-4245-ab1b-23c417ac4ec7",
   "metadata": {},
   "outputs": [],
   "source": []
  }
 ],
 "metadata": {
  "kernelspec": {
   "display_name": "Python 3 (ipykernel)",
   "language": "python",
   "name": "python3"
  },
  "language_info": {
   "codemirror_mode": {
    "name": "ipython",
    "version": 3
   },
   "file_extension": ".py",
   "mimetype": "text/x-python",
   "name": "python",
   "nbconvert_exporter": "python",
   "pygments_lexer": "ipython3",
   "version": "3.8.10"
  }
 },
 "nbformat": 4,
 "nbformat_minor": 5
}
