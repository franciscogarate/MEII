{
 "cells": [
  {
   "cell_type": "code",
   "execution_count": null,
   "id": "61ade22d",
   "metadata": {},
   "outputs": [],
   "source": [
    "import matplotlib.pyplot as plt"
   ]
  },
  {
   "cell_type": "code",
   "execution_count": null,
   "id": "a82b4241",
   "metadata": {},
   "outputs": [],
   "source": [
    "# Definimos los valores de x e y para cada función\n",
    "x1 = [-10, 10]\n",
    "y1 = [i for i in x1]"
   ]
  },
  {
   "cell_type": "code",
   "execution_count": null,
   "id": "d4feeac0",
   "metadata": {},
   "outputs": [],
   "source": [
    "x2 = [-10, 10]\n",
    "y2 = [-i for i in x2]"
   ]
  },
  {
   "cell_type": "code",
   "execution_count": null,
   "id": "8524e632",
   "metadata": {},
   "outputs": [],
   "source": [
    "x3 = [1, 1]\n",
    "y3 = [-10, 10]"
   ]
  },
  {
   "cell_type": "code",
   "execution_count": null,
   "id": "a0c4b015",
   "metadata": {},
   "outputs": [],
   "source": [
    "x4 = [3, 3]\n",
    "y4 = [-10, 10]"
   ]
  },
  {
   "cell_type": "code",
   "execution_count": null,
   "id": "01101166",
   "metadata": {},
   "outputs": [],
   "source": [
    "# Creamos la figura y los ejes\n",
    "fig, ax = plt.subplots()"
   ]
  },
  {
   "cell_type": "code",
   "execution_count": null,
   "id": "467ff4fa",
   "metadata": {},
   "outputs": [],
   "source": [
    "# Configurar la figura\n",
    "ax.spines['left'].set_position('zero')  # mover el eje y al centro\n",
    "ax.spines['bottom'].set_position('zero')  # mover el eje x al centro\n",
    "ax.spines['right'].set_color('none')  # ocultar el borde derecho\n",
    "ax.spines['top'].set_color('none')  # ocultar el borde superior\n",
    "ax.xaxis.set_ticks_position('bottom')  # ubicar las marcas del eje x en la parte inferior\n",
    "ax.yaxis.set_ticks_position('left')  # ubicar las marcas del eje y en la parte izquierda\n",
    "ax.spines['left'].set_color('black')  # establecer el color del eje y en negro\n",
    "ax.spines['bottom'].set_color('black')  # establecer el color del eje x en negro"
   ]
  },
  {
   "cell_type": "code",
   "execution_count": null,
   "id": "64f0a19e",
   "metadata": {},
   "outputs": [],
   "source": [
    "# Agregamos las líneas correspondientes a cada función\n",
    "ax.plot(x1, y1, label='y = x')\n",
    "ax.plot(x2, y2, label='y = -x')\n",
    "ax.plot(x3, y3, label='x = 1')\n",
    "ax.plot(x4, y4, label='x = 3')"
   ]
  },
  {
   "cell_type": "code",
   "execution_count": null,
   "id": "5326352a",
   "metadata": {},
   "outputs": [],
   "source": [
    "# Agregamos una leyenda y títulos de ejes\n",
    "ax.legend()\n",
    "ax.set_xlabel('x')\n",
    "ax.set_ylabel('y')"
   ]
  },
  {
   "cell_type": "code",
   "execution_count": null,
   "id": "647c2130",
   "metadata": {},
   "outputs": [],
   "source": [
    "# Mostramos la figura\n",
    "plt.show()"
   ]
  }
 ],
 "metadata": {
  "jupytext": {
   "cell_metadata_filter": "-all",
   "main_language": "python",
   "notebook_metadata_filter": "-all"
  }
 },
 "nbformat": 4,
 "nbformat_minor": 5
}
