{
 "cells": [
  {
   "cell_type": "code",
   "execution_count": null,
   "id": "4caf45f0",
   "metadata": {
    "lines_to_next_cell": 1
   },
   "outputs": [],
   "source": [
    "import numpy as np\n",
    "import matplotlib.pyplot as plt\n",
    "from mpl_toolkits.mplot3d import Axes3D"
   ]
  },
  {
   "cell_type": "code",
   "execution_count": null,
   "id": "6a586fc6",
   "metadata": {
    "lines_to_next_cell": 1
   },
   "outputs": [],
   "source": [
    "def f(x,y):\n",
    "    return (x-1)**2 * np.exp(-x**2 - y**2) - (x+1)**2 * np.exp(-x**2 - y**2)"
   ]
  },
  {
   "cell_type": "code",
   "execution_count": null,
   "id": "326b4e3a",
   "metadata": {},
   "outputs": [],
   "source": [
    "fig = plt.figure()\n",
    "ax = fig.add_subplot(111, projection='3d')"
   ]
  },
  {
   "cell_type": "code",
   "execution_count": null,
   "id": "2f6935be",
   "metadata": {},
   "outputs": [],
   "source": [
    "x = np.linspace(-2, 2, 100)\n",
    "y = np.linspace(-2, 2, 100)\n",
    "X, Y = np.meshgrid(x, y)\n",
    "Z = f(X,Y)"
   ]
  },
  {
   "cell_type": "code",
   "execution_count": null,
   "id": "8dca45c1",
   "metadata": {},
   "outputs": [],
   "source": [
    "# Gráfica 3D de la función\n",
    "ax.plot_surface(X, Y, Z, cmap='viridis')"
   ]
  },
  {
   "cell_type": "code",
   "execution_count": null,
   "id": "2ca903e9",
   "metadata": {},
   "outputs": [],
   "source": [
    "# Curvas de nivel en el plano xy\n",
    "#c = ax.contour(X, Y, Z, zdir='z', offset=-3, cmap='coolwarm')\n",
    "#cset = ax.contourf(X, Y, Z, zdir='z', offset=-3, cmap='coolwarm', alpha=0.5)\n",
    "# Etiquetas de las curvas de nivel\n",
    "#ax.clabel(c, fontsize=10, inline=1)\n",
    "ax.grid(False)\n",
    "ax.set_xlabel('x')\n",
    "ax.set_ylabel('y')\n",
    "ax.set_zlabel('f(x,y)')\n",
    "plt.show()"
   ]
  }
 ],
 "metadata": {
  "jupytext": {
   "cell_metadata_filter": "-all",
   "main_language": "python",
   "notebook_metadata_filter": "-all"
  }
 },
 "nbformat": 4,
 "nbformat_minor": 5
}
