{
 "cells": [
  {
   "cell_type": "code",
   "execution_count": null,
   "id": "c942f263",
   "metadata": {},
   "outputs": [],
   "source": [
    "import matplotlib.pyplot as plt\n",
    "import numpy as np"
   ]
  },
  {
   "cell_type": "code",
   "execution_count": null,
   "id": "01c6a80b",
   "metadata": {},
   "outputs": [],
   "source": [
    "# Definimos la función y los valores de x\n",
    "x = np.linspace(-2, 2, 1000)\n",
    "y1 = x/3\n",
    "#y3 = np.zeros_like(x)+0.01"
   ]
  },
  {
   "cell_type": "code",
   "execution_count": null,
   "id": "1fa5f3e5",
   "metadata": {},
   "outputs": [],
   "source": [
    "x4 = [1, 1]\n",
    "y4 = [-10, 10]"
   ]
  },
  {
   "cell_type": "code",
   "execution_count": null,
   "id": "106220fa",
   "metadata": {},
   "outputs": [],
   "source": [
    "# Creamos la figura y los ejes\n",
    "fig, ax = plt.subplots()"
   ]
  },
  {
   "cell_type": "code",
   "execution_count": null,
   "id": "42db25f7",
   "metadata": {},
   "outputs": [],
   "source": [
    "# Configurar la figura\n",
    "ax.spines['left'].set_position('zero')  # mover el eje y al centro\n",
    "ax.spines['bottom'].set_position('zero')  # mover el eje x al centro\n",
    "ax.spines['right'].set_color('none')  # ocultar el borde derecho\n",
    "ax.spines['top'].set_color('none')  # ocultar el borde superior\n",
    "ax.xaxis.set_ticks_position('bottom')  # ubicar las marcas del eje x en la parte inferior\n",
    "ax.yaxis.set_ticks_position('left')  # ubicar las marcas del eje y en la parte izquierda\n",
    "ax.spines['left'].set_color('black')  # establecer el color del eje y en negro\n",
    "ax.spines['bottom'].set_color('black')  # establecer el color del eje x en negro"
   ]
  },
  {
   "cell_type": "code",
   "execution_count": null,
   "id": "4a676173",
   "metadata": {},
   "outputs": [],
   "source": [
    "# Graficamos las funciones\n",
    "ax.plot(x, y1, label='$y$')\n",
    "ax.plot(x4, y4, label='$y = 0$')"
   ]
  },
  {
   "cell_type": "code",
   "execution_count": null,
   "id": "a6607ee1",
   "metadata": {},
   "outputs": [],
   "source": [
    "# Configuramos los ejes y la leyenda\n",
    "ax.set_xlim([-3, 3])\n",
    "ax.set_ylim([-1, 3])\n",
    "ax.legend()"
   ]
  },
  {
   "cell_type": "code",
   "execution_count": null,
   "id": "68cf5f3d",
   "metadata": {},
   "outputs": [],
   "source": [
    "# Mostramos la figura\n",
    "fig.set_size_inches(5, 3.75)\n",
    "#plt.savefig('../images/fig7_ejer_1_4.png', format='png', transparent=True)\n",
    "plt.show()"
   ]
  }
 ],
 "metadata": {
  "jupytext": {
   "cell_metadata_filter": "-all",
   "main_language": "python",
   "notebook_metadata_filter": "-all"
  }
 },
 "nbformat": 4,
 "nbformat_minor": 5
}
