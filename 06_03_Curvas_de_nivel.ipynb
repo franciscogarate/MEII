{
 "cells": [
  {
   "cell_type": "code",
   "execution_count": null,
   "id": "f4f075df",
   "metadata": {},
   "outputs": [],
   "source": [
    "import numpy as np\n",
    "import matplotlib.pyplot as plt\n",
    "from mpl_toolkits.mplot3d import Axes3D # permet d'utiliser l'attribut projection=\"3d\""
   ]
  },
  {
   "cell_type": "code",
   "execution_count": null,
   "id": "b4e9fa05",
   "metadata": {},
   "outputs": [],
   "source": [
    "x = np.linspace(0, 2*np.pi, 20)\n",
    "y = x.copy()\n",
    "X, Y = np.meshgrid(x, y)"
   ]
  },
  {
   "cell_type": "code",
   "execution_count": null,
   "id": "8b07e5b3",
   "metadata": {},
   "outputs": [],
   "source": [
    "Z = np.sin(X)*np.sin(Y)"
   ]
  },
  {
   "cell_type": "code",
   "execution_count": null,
   "id": "1644a4de",
   "metadata": {},
   "outputs": [],
   "source": [
    "plt.figure()\n",
    "ax = plt.axes(projection=\"3d\")"
   ]
  },
  {
   "cell_type": "code",
   "execution_count": null,
   "id": "94f8f538",
   "metadata": {},
   "outputs": [],
   "source": [
    "ax.contour(X, Y, Z, zdir=\"z\", offset=-1)\n",
    "ax.plot_surface(X, Y, Z, alpha=0.8)"
   ]
  },
  {
   "cell_type": "code",
   "execution_count": null,
   "id": "cadab820",
   "metadata": {},
   "outputs": [],
   "source": [
    "plt.show()\n",
    "#plt.savefig(\"surface3D_sinFoisSin_python_matplotlib.svg\", format=\"svg\")"
   ]
  }
 ],
 "metadata": {
  "jupytext": {
   "cell_metadata_filter": "-all",
   "main_language": "python",
   "notebook_metadata_filter": "-all"
  }
 },
 "nbformat": 4,
 "nbformat_minor": 5
}
