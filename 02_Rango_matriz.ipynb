{
 "cells": [
  {
   "cell_type": "code",
   "execution_count": 1,
   "id": "0e638fb5-f3f4-4f80-9e2b-a03e78d2ea1b",
   "metadata": {},
   "outputs": [],
   "source": [
    "import numpy as np\n",
    "from numpy.linalg import det, inv, matrix_rank"
   ]
  },
  {
   "cell_type": "code",
   "execution_count": 2,
   "id": "d7841ad2-1ebd-491e-8d30-1ed0ba434cca",
   "metadata": {},
   "outputs": [
    {
     "data": {
      "text/plain": [
       "array([[ 6,  1,  4,  4],\n",
       "       [ 8,  4,  6,  3],\n",
       "       [ 5,  8,  7,  9],\n",
       "       [ 9, -3,  3, -2]])"
      ]
     },
     "execution_count": 2,
     "metadata": {},
     "output_type": "execute_result"
    }
   ],
   "source": [
    "A = np.array([[6,1,4,4],[8,4,6,3],[5,8,7,9],[9,-3,3,-2]])\n",
    "A"
   ]
  },
  {
   "cell_type": "code",
   "execution_count": 3,
   "id": "79657366-162d-4d76-81c9-e7d5d0cdbcc0",
   "metadata": {},
   "outputs": [
    {
     "data": {
      "text/plain": [
       "-0.0"
      ]
     },
     "execution_count": 3,
     "metadata": {},
     "output_type": "execute_result"
    }
   ],
   "source": [
    "det(A).round(10)"
   ]
  },
  {
   "cell_type": "code",
   "execution_count": 4,
   "id": "13dae21e-cfe3-44ee-ac4d-9838dcd7c03b",
   "metadata": {},
   "outputs": [
    {
     "data": {
      "text/plain": [
       "3"
      ]
     },
     "execution_count": 4,
     "metadata": {},
     "output_type": "execute_result"
    }
   ],
   "source": [
    "matrix_rank(A)"
   ]
  },
  {
   "cell_type": "code",
   "execution_count": 18,
   "id": "ed7e3ebc-ac75-42de-9cea-3411fde1f7a8",
   "metadata": {},
   "outputs": [
    {
     "data": {
      "text/plain": [
       "array([[6, 1, 4],\n",
       "       [8, 4, 6],\n",
       "       [5, 8, 7]])"
      ]
     },
     "execution_count": 18,
     "metadata": {},
     "output_type": "execute_result"
    }
   ],
   "source": [
    "A3 = A[:-1,:-1]\n",
    "A3"
   ]
  },
  {
   "cell_type": "code",
   "execution_count": 22,
   "id": "4362f34a-27fb-4320-8d48-d8a75a0dac92",
   "metadata": {},
   "outputs": [
    {
     "data": {
      "text/plain": [
       "30.0"
      ]
     },
     "execution_count": 22,
     "metadata": {},
     "output_type": "execute_result"
    }
   ],
   "source": [
    "det(A3).round(10)"
   ]
  },
  {
   "cell_type": "code",
   "execution_count": 24,
   "id": "bebccd20-4082-421d-a9f0-b04806a664c8",
   "metadata": {},
   "outputs": [
    {
     "data": {
      "text/plain": [
       "3"
      ]
     },
     "execution_count": 24,
     "metadata": {},
     "output_type": "execute_result"
    }
   ],
   "source": [
    "matrix_rank(A3)"
   ]
  },
  {
   "cell_type": "code",
   "execution_count": null,
   "id": "efb034f2-c760-40ce-b693-d5e1f79d799e",
   "metadata": {},
   "outputs": [],
   "source": []
  }
 ],
 "metadata": {
  "kernelspec": {
   "display_name": "anaconda-panel-2023.05-py310",
   "language": "python",
   "name": "conda-env-anaconda-panel-2023.05-py310-py"
  },
  "language_info": {
   "codemirror_mode": {
    "name": "ipython",
    "version": 3
   },
   "file_extension": ".py",
   "mimetype": "text/x-python",
   "name": "python",
   "nbconvert_exporter": "python",
   "pygments_lexer": "ipython3",
   "version": "3.11.5"
  }
 },
 "nbformat": 4,
 "nbformat_minor": 5
}
