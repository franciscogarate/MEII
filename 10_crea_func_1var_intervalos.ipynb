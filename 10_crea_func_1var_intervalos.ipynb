{
 "cells": [
  {
   "cell_type": "code",
   "execution_count": null,
   "id": "1269af71",
   "metadata": {
    "lines_to_next_cell": 1
   },
   "outputs": [],
   "source": [
    "import numpy as np\n",
    "import matplotlib.pyplot as plt"
   ]
  },
  {
   "cell_type": "code",
   "execution_count": null,
   "id": "e57f1b2e",
   "metadata": {
    "lines_to_next_cell": 2
   },
   "outputs": [],
   "source": [
    "# Definir la función\n",
    "def f(x):\n",
    "    #return (x - 1) ** 3 / 27 + 0.5\n",
    "    return np.exp(-x)\n",
    "\t#return -0.5 * (x - 2.5)**2 + 1.5"
   ]
  },
  {
   "cell_type": "code",
   "execution_count": null,
   "id": "4240fecd",
   "metadata": {},
   "outputs": [],
   "source": [
    "# Definir los puntos x e y para graficar la función\n",
    "x = np.linspace(1, 4, 1000)\n",
    "y = f(x)"
   ]
  },
  {
   "cell_type": "code",
   "execution_count": null,
   "id": "8e4a876b",
   "metadata": {},
   "outputs": [],
   "source": [
    "# Graficar la función\n",
    "plt.plot(x, y)"
   ]
  },
  {
   "cell_type": "code",
   "execution_count": null,
   "id": "0ccbb182",
   "metadata": {},
   "outputs": [],
   "source": [
    "# Agregar etiquetas de los ejes y título de la gráfica\n",
    "plt.xlabel('x')\n",
    "plt.ylabel('f(x)')\n",
    "plt.vlines(1, 0, f(1), linestyle='dashed', linewidth=1)\n",
    "plt.vlines(4, 0, f(4), linestyle='dashed', linewidth=1)\n",
    "#plt.vlines(2.5, 0, f(2.5), linestyle='dotted', linewidth=1)"
   ]
  },
  {
   "cell_type": "code",
   "execution_count": null,
   "id": "be70a7c2",
   "metadata": {},
   "outputs": [],
   "source": [
    "# Mostrar la gráfica\n",
    "plt.show()\n",
    "#plt.savefig('../images/fig8_teorema_2.png', format='png', transparent=True)"
   ]
  }
 ],
 "metadata": {
  "jupytext": {
   "cell_metadata_filter": "-all",
   "main_language": "python",
   "notebook_metadata_filter": "-all"
  }
 },
 "nbformat": 4,
 "nbformat_minor": 5
}
