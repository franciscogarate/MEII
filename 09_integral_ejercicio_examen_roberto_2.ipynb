{
 "cells": [
  {
   "cell_type": "code",
   "execution_count": null,
   "id": "5c1091a7",
   "metadata": {},
   "outputs": [],
   "source": [
    "import matplotlib.pyplot as plt\n",
    "import numpy as np"
   ]
  },
  {
   "cell_type": "code",
   "execution_count": null,
   "id": "4a8bce57",
   "metadata": {},
   "outputs": [],
   "source": [
    "# Definimos la función y los valores de x\n",
    "x = np.linspace(-2, 2, 100)\n",
    "y1 = (2 - x**2)**0.5\n",
    "y2 = -(2 - x**2)**0.5\n",
    "y3 = 2 - x\n",
    "y4 = x"
   ]
  },
  {
   "cell_type": "code",
   "execution_count": null,
   "id": "2970516a",
   "metadata": {},
   "outputs": [],
   "source": [
    "# Creamos la figura y los ejes\n",
    "fig, ax = plt.subplots()"
   ]
  },
  {
   "cell_type": "code",
   "execution_count": null,
   "id": "7dfa18a0",
   "metadata": {},
   "outputs": [],
   "source": [
    "# Configuramos la figura\n",
    "ax.spines['left'].set_position('zero')  # mover el eje y al centro\n",
    "ax.spines['bottom'].set_position('zero')  # mover el eje x al centro\n",
    "ax.spines['right'].set_color('none')  # ocultar el borde derecho\n",
    "ax.spines['top'].set_color('none')  # ocultar el borde superior\n",
    "ax.xaxis.set_ticks_position('bottom')  # ubicar las marcas del eje x en la parte inferior\n",
    "ax.yaxis.set_ticks_position('left')  # ubicar las marcas del eje y en la parte izquierda\n",
    "ax.spines['left'].set_color('black')  # establecer el color del eje y en negro\n",
    "ax.spines['bottom'].set_color('black')  # establecer el color del eje x en negro"
   ]
  },
  {
   "cell_type": "code",
   "execution_count": null,
   "id": "41bbb355",
   "metadata": {},
   "outputs": [],
   "source": [
    "# Graficamos las funciones\n",
    "ax.plot(x, y1, label='$x^2 + y^2 = 2$')\n",
    "ax.plot(x, y2)\n",
    "ax.plot(x, y3, label='$y + x = 2$')\n",
    "ax.plot(x, y4, label='$y = x$')\n",
    "ax.axhline(y=0, color='black')\n",
    "ax.axvline(x=0, color='black')"
   ]
  },
  {
   "cell_type": "code",
   "execution_count": null,
   "id": "77d0f17c",
   "metadata": {},
   "outputs": [],
   "source": [
    "# Configuramos los ejes y la leyenda\n",
    "ax.set_xlim([-2, 2])\n",
    "ax.set_ylim([-2, 2])\n",
    "ax.legend()"
   ]
  },
  {
   "cell_type": "code",
   "execution_count": null,
   "id": "29508037",
   "metadata": {},
   "outputs": [],
   "source": [
    "# Mostramos la figura\n",
    "fig.set_size_inches(5, 5)\n",
    "#plt.savefig('../images/fig7_ejer_examen_roberto_2.png', format='png', transparent=True)\n",
    "plt.show()"
   ]
  }
 ],
 "metadata": {
  "jupytext": {
   "cell_metadata_filter": "-all",
   "main_language": "python",
   "notebook_metadata_filter": "-all"
  }
 },
 "nbformat": 4,
 "nbformat_minor": 5
}
