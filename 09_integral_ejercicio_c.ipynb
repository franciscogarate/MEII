{
 "cells": [
  {
   "cell_type": "code",
   "execution_count": null,
   "id": "fd222e25",
   "metadata": {},
   "outputs": [],
   "source": [
    "import matplotlib.pyplot as plt\n",
    "import numpy as np"
   ]
  },
  {
   "cell_type": "code",
   "execution_count": null,
   "id": "2534743a",
   "metadata": {},
   "outputs": [],
   "source": [
    "# Generar puntos para x\n",
    "x = np.linspace(-2, 2, 100)"
   ]
  },
  {
   "cell_type": "code",
   "execution_count": null,
   "id": "4bc83a2b",
   "metadata": {
    "lines_to_next_cell": 2
   },
   "outputs": [],
   "source": [
    "# Evaluar las funciones para los puntos de x\n",
    "y1 = x**2 - 1\n",
    "y2 = 1 - x**2"
   ]
  },
  {
   "cell_type": "code",
   "execution_count": null,
   "id": "15ca11c4",
   "metadata": {},
   "outputs": [],
   "source": [
    "# Creamos la figura y los ejes\n",
    "fig, ax = plt.subplots()"
   ]
  },
  {
   "cell_type": "code",
   "execution_count": null,
   "id": "84c8d5f3",
   "metadata": {
    "lines_to_next_cell": 2
   },
   "outputs": [],
   "source": [
    "# Configurar la figura\n",
    "ax.spines['left'].set_position('zero')  # mover el eje y al centro\n",
    "ax.spines['bottom'].set_position('zero')  # mover el eje x al centro\n",
    "ax.spines['right'].set_color('none')  # ocultar el borde derecho\n",
    "ax.spines['top'].set_color('none')  # ocultar el borde superior\n",
    "ax.xaxis.set_ticks_position('bottom')  # ubicar las marcas del eje x en la parte inferior\n",
    "ax.yaxis.set_ticks_position('left')  # ubicar las marcas del eje y en la parte izquierda\n",
    "ax.spines['left'].set_color('black')  # establecer el color del eje y en negro\n",
    "ax.spines['bottom'].set_color('black')  # establecer el color del eje x en negro"
   ]
  },
  {
   "cell_type": "code",
   "execution_count": null,
   "id": "f419e8f7",
   "metadata": {},
   "outputs": [],
   "source": [
    "# Graficar las funciones\n",
    "plt.plot(x, y1, label='$y = x^2 - 1$')\n",
    "plt.plot(x, y2, label='$y = 1 - x^2$')\n",
    "plt.axvline(0.02, color='red', label='$x = 0$')"
   ]
  },
  {
   "cell_type": "code",
   "execution_count": null,
   "id": "82bb6aeb",
   "metadata": {},
   "outputs": [],
   "source": [
    "# Agregar título y etiquetas de los ejes\n",
    "plt.xlabel('x')\n",
    "plt.ylabel('y')"
   ]
  },
  {
   "cell_type": "code",
   "execution_count": null,
   "id": "594580c1",
   "metadata": {},
   "outputs": [],
   "source": [
    "# Agregar leyenda\n",
    "plt.legend()"
   ]
  },
  {
   "cell_type": "code",
   "execution_count": null,
   "id": "c468eb4b",
   "metadata": {},
   "outputs": [],
   "source": [
    "# Mostrar la gráfica\n",
    "plt.show()"
   ]
  }
 ],
 "metadata": {
  "jupytext": {
   "cell_metadata_filter": "-all",
   "main_language": "python",
   "notebook_metadata_filter": "-all"
  }
 },
 "nbformat": 4,
 "nbformat_minor": 5
}
