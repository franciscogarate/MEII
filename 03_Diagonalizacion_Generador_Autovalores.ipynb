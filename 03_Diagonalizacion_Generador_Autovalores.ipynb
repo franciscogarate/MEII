{
 "cells": [
  {
   "cell_type": "code",
   "execution_count": 1,
   "metadata": {},
   "outputs": [
    {
     "name": "stdout",
     "output_type": "stream",
     "text": [
      "Los autovalores de la matriz A son: [-2.  1.  2.]\n"
     ]
    }
   ],
   "source": [
    "import numpy as np\n",
    "\n",
    "A = np.array([[1, 1, 0], [0, 2, 0], [3, -3, -2]])\n",
    "autovalores = np.linalg.eigvals(A)\n",
    "\n",
    "print(\"Los autovalores de la matriz A son:\", autovalores)"
   ]
  },
  {
   "cell_type": "code",
   "execution_count": 2,
   "metadata": {},
   "outputs": [
    {
     "name": "stdout",
     "output_type": "stream",
     "text": [
      "Autovalor: -2.0\n",
      "Autovector asociado: [0. 0. 1.]\n",
      "\n",
      "Autovalor: 1.0\n",
      "Autovector asociado: [0.70710678 0.         0.70710678]\n",
      "\n",
      "Autovalor: 2.0\n",
      "Autovector asociado: [0.70710678 0.70710678 0.        ]\n",
      "\n"
     ]
    }
   ],
   "source": [
    "autovalores, autovectores = np.linalg.eig(A)\n",
    "\n",
    "for i in range(len(autovalores)):\n",
    "    print(\"Autovalor:\", autovalores[i])\n",
    "    print(\"Autovector asociado:\", autovectores[:,i])\n",
    "    print()"
   ]
  },
  {
   "cell_type": "code",
   "execution_count": 9,
   "metadata": {},
   "outputs": [
    {
     "name": "stdout",
     "output_type": "stream",
     "text": [
      "La fracción más cercana a 0.70710678 es 678155/959056\n"
     ]
    }
   ],
   "source": [
    "from fractions import Fraction\n",
    "\n",
    "decimal = 0.70710678\n",
    "fraccion = Fraction(decimal).limit_denominator()\n",
    "\n",
    "print(\"La fracción más cercana a\", decimal, \"es\", fraccion)"
   ]
  },
  {
   "cell_type": "code",
   "execution_count": 11,
   "metadata": {},
   "outputs": [
    {
     "data": {
      "text/plain": [
       "0.7071067811865476"
      ]
     },
     "execution_count": 11,
     "metadata": {},
     "output_type": "execute_result"
    }
   ],
   "source": [
    "0.70710678 ** 2\n",
    "0.5 ** (1/2)"
   ]
  },
  {
   "cell_type": "markdown",
   "metadata": {},
   "source": [
    "## Ejercicio 5 (Tema 3 adicionales)"
   ]
  },
  {
   "cell_type": "code",
   "execution_count": 2,
   "metadata": {},
   "outputs": [
    {
     "name": "stdout",
     "output_type": "stream",
     "text": [
      "Los autovalores de la matriz A son: [2. 2. 8.]\n"
     ]
    }
   ],
   "source": [
    "import numpy as np\n",
    "#B = np.array([[1, 1, 3], [4, 2, 1], [3, 3, -2]])\n",
    "\n",
    "B = np.array([[ 2, 0, 6], [ 0, 2, 3], [ 0, 0, 8]])\n",
    "\n",
    "autovalores = np.linalg.eigvals(B)\n",
    "\n",
    "print(\"Los autovalores de la matriz A son:\", autovalores)"
   ]
  },
  {
   "cell_type": "code",
   "execution_count": 3,
   "metadata": {},
   "outputs": [
    {
     "name": "stdout",
     "output_type": "stream",
     "text": [
      "Autovalor: 2.0\n",
      "Autovector asociado: [1. 0. 0.]\n",
      "\n",
      "Autovalor: 2.0\n",
      "Autovector asociado: [0. 1. 0.]\n",
      "\n",
      "Autovalor: 8.0\n",
      "Autovector asociado: [0.66666667 0.33333333 0.66666667]\n",
      "\n"
     ]
    }
   ],
   "source": [
    "autovalores, autovectores = np.linalg.eig(B)\n",
    "\n",
    "for i in range(len(autovalores)):\n",
    "    print(\"Autovalor:\", autovalores[i])\n",
    "    print(\"Autovector asociado:\", autovectores[:,i])\n",
    "    print()"
   ]
  },
  {
   "cell_type": "markdown",
   "metadata": {},
   "source": [
    "## Ejercicio 6 (Tema 3 adicionales)"
   ]
  },
  {
   "cell_type": "code",
   "execution_count": 5,
   "metadata": {},
   "outputs": [
    {
     "name": "stdout",
     "output_type": "stream",
     "text": [
      "Los autovalores de la matriz A son: [ 4. -2.  2.]\n"
     ]
    }
   ],
   "source": [
    "import numpy as np\n",
    "\n",
    "C = np.array([[ -2, 8, 0], [ 0, 2, 0], [ -6, 8, 4]])\n",
    "\n",
    "autovalores = np.linalg.eigvals(C)\n",
    "\n",
    "print(\"Los autovalores de la matriz A son:\", autovalores)"
   ]
  },
  {
   "cell_type": "code",
   "execution_count": 6,
   "metadata": {},
   "outputs": [
    {
     "name": "stdout",
     "output_type": "stream",
     "text": [
      "Autovalor: 4.0\n",
      "Autovector asociado: [0. 0. 1.]\n",
      "\n",
      "Autovalor: -2.0\n",
      "Autovector asociado: [0.70710678 0.         0.70710678]\n",
      "\n",
      "Autovalor: 2.0\n",
      "Autovector asociado: [0.66666667 0.33333333 0.66666667]\n",
      "\n"
     ]
    }
   ],
   "source": [
    "autovalores, autovectores = np.linalg.eig(C)\n",
    "\n",
    "for i in range(len(autovalores)):\n",
    "    print(\"Autovalor:\", autovalores[i])\n",
    "    print(\"Autovector asociado:\", autovectores[:,i])\n",
    "    print()"
   ]
  },
  {
   "cell_type": "markdown",
   "metadata": {},
   "source": [
    "## Ejercicio 7 (Tema 3 adicionales)"
   ]
  },
  {
   "cell_type": "code",
   "execution_count": 7,
   "metadata": {},
   "outputs": [
    {
     "name": "stdout",
     "output_type": "stream",
     "text": [
      "Los autovalores de la matriz A son: [ 2. -1.  2.]\n"
     ]
    }
   ],
   "source": [
    "import numpy as np\n",
    "\n",
    "D = np.array([[ 2, -6, 6], [ 0, -4, 6], [ 0, -3, 5]])\n",
    "\n",
    "autovalores = np.linalg.eigvals(D)\n",
    "\n",
    "print(\"Los autovalores de la matriz A son:\", autovalores)"
   ]
  },
  {
   "cell_type": "code",
   "execution_count": 8,
   "metadata": {},
   "outputs": [
    {
     "name": "stdout",
     "output_type": "stream",
     "text": [
      "Autovalor: 2.0\n",
      "Autovector asociado: [1. 0. 0.]\n",
      "\n",
      "Autovalor: -1.0\n",
      "Autovector asociado: [-0.66666667 -0.66666667 -0.33333333]\n",
      "\n",
      "Autovalor: 2.0\n",
      "Autovector asociado: [ 0.         -0.70710678 -0.70710678]\n",
      "\n"
     ]
    }
   ],
   "source": [
    "autovalores, autovectores = np.linalg.eig(D)\n",
    "\n",
    "for i in range(len(autovalores)):\n",
    "    print(\"Autovalor:\", autovalores[i])\n",
    "    print(\"Autovector asociado:\", autovectores[:,i])\n",
    "    print()"
   ]
  },
  {
   "cell_type": "code",
   "execution_count": null,
   "metadata": {},
   "outputs": [],
   "source": []
  }
 ],
 "metadata": {
  "kernelspec": {
   "display_name": "Python 3 (ipykernel)",
   "language": "python",
   "name": "python3"
  },
  "language_info": {
   "codemirror_mode": {
    "name": "ipython",
    "version": 3
   },
   "file_extension": ".py",
   "mimetype": "text/x-python",
   "name": "python",
   "nbconvert_exporter": "python",
   "pygments_lexer": "ipython3",
   "version": "3.8.10"
  }
 },
 "nbformat": 4,
 "nbformat_minor": 4
}
