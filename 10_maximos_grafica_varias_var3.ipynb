{
 "cells": [
  {
   "cell_type": "code",
   "execution_count": null,
   "id": "0ff5ab5a",
   "metadata": {
    "lines_to_next_cell": 1
   },
   "outputs": [],
   "source": [
    "import numpy as np\n",
    "import matplotlib.pyplot as plt\n",
    "from mpl_toolkits.mplot3d import Axes3D"
   ]
  },
  {
   "cell_type": "code",
   "execution_count": null,
   "id": "0987f575",
   "metadata": {
    "lines_to_next_cell": 1
   },
   "outputs": [],
   "source": [
    "def f(x, y):\n",
    "    return (x-3)**2 + (y-1)**2"
   ]
  },
  {
   "cell_type": "code",
   "execution_count": null,
   "id": "60ffb8b4",
   "metadata": {},
   "outputs": [],
   "source": [
    "fig = plt.figure()\n",
    "ax = fig.add_subplot(111, projection='3d')"
   ]
  },
  {
   "cell_type": "code",
   "execution_count": null,
   "id": "645aed75",
   "metadata": {},
   "outputs": [],
   "source": [
    "x = y = np.arange(-5.0, 5.0, 0.1)\n",
    "X, Y = np.meshgrid(x, y)\n",
    "Z = f(X, Y)"
   ]
  },
  {
   "cell_type": "code",
   "execution_count": null,
   "id": "fcf8f103",
   "metadata": {},
   "outputs": [],
   "source": [
    "ax.set_xlabel('X')\n",
    "ax.set_ylabel('Y')\n",
    "ax.set_zlabel('Z')"
   ]
  },
  {
   "cell_type": "code",
   "execution_count": null,
   "id": "b896568e",
   "metadata": {},
   "outputs": [],
   "source": [
    "ax.plot_surface(X, Y, Z)"
   ]
  },
  {
   "cell_type": "code",
   "execution_count": null,
   "id": "2fbd2924",
   "metadata": {},
   "outputs": [],
   "source": [
    "ax.plot([0, 3], [0, 1], [0, f(3, 1)], color='red')"
   ]
  },
  {
   "cell_type": "code",
   "execution_count": null,
   "id": "18c26e50",
   "metadata": {},
   "outputs": [],
   "source": [
    "plt.show()"
   ]
  }
 ],
 "metadata": {
  "jupytext": {
   "cell_metadata_filter": "-all",
   "main_language": "python",
   "notebook_metadata_filter": "-all"
  }
 },
 "nbformat": 4,
 "nbformat_minor": 5
}
