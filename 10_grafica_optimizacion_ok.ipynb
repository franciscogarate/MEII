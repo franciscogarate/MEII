{
 "cells": [
  {
   "cell_type": "code",
   "execution_count": null,
   "id": "f2369e24",
   "metadata": {
    "lines_to_next_cell": 1
   },
   "outputs": [],
   "source": [
    "import matplotlib.pyplot as plt\n",
    "import numpy as np"
   ]
  },
  {
   "cell_type": "code",
   "execution_count": null,
   "id": "2507a40e",
   "metadata": {
    "lines_to_next_cell": 1
   },
   "outputs": [],
   "source": [
    "def eliptic_paraboloid(x, y, a, b):\n",
    "  z = -(a*x**2 + b*y**2)\n",
    "  return z"
   ]
  },
  {
   "cell_type": "code",
   "execution_count": null,
   "id": "dda959fa",
   "metadata": {
    "lines_to_next_cell": 1
   },
   "outputs": [],
   "source": [
    "def d_eliptic_paraboloid(x, y, a, b):\n",
    "  z = -2*a*x - 2*b*y\n",
    "  return z"
   ]
  },
  {
   "cell_type": "code",
   "execution_count": null,
   "id": "ddce561a",
   "metadata": {},
   "outputs": [],
   "source": [
    "x, y = np.meshgrid(np.linspace(-5, 5, 100), np.linspace(-5, 5, 100))\n",
    "z = eliptic_paraboloid(x, y, 2, 2)\n",
    "dz = d_eliptic_paraboloid(x, y, 2, 2)"
   ]
  },
  {
   "cell_type": "code",
   "execution_count": null,
   "id": "74d46ca3",
   "metadata": {},
   "outputs": [],
   "source": [
    "plt.figure(figsize=(4, 4))\n",
    "ax = plt.axes(projection='3d')\n",
    "ax.plot_surface(x, y, z, cmap='Oranges')\n",
    "ax.plot_surface(x, y, dz, cmap='GnBu')\n",
    "ax.axvline(x=0, color='black', linewidth=.5)\n",
    "plt.xlabel('x')\n",
    "plt.ylabel('y')\n",
    "plt.show()\n",
    "#plt.savefig('../images/fig5_diferenc.png', format='png', transparent=True)"
   ]
  }
 ],
 "metadata": {
  "jupytext": {
   "cell_metadata_filter": "-all",
   "main_language": "python",
   "notebook_metadata_filter": "-all"
  }
 },
 "nbformat": 4,
 "nbformat_minor": 5
}
