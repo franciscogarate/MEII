{
 "cells": [
  {
   "cell_type": "code",
   "execution_count": 1,
   "id": "5137faa8",
   "metadata": {},
   "outputs": [],
   "source": [
    "import numpy as np\n",
    "from numpy.linalg import inv, det"
   ]
  },
  {
   "cell_type": "markdown",
   "id": "dba2913b",
   "metadata": {},
   "source": [
    "$ A^2(X+B)=C^T$"
   ]
  },
  {
   "cell_type": "code",
   "execution_count": 2,
   "id": "c2512f50",
   "metadata": {},
   "outputs": [],
   "source": [
    "A = np.array([[1,3],[-2,4]])\n",
    "B = np.array([[2,-1],[0,2]])\n",
    "C = np.array([[1,-1],[0,2]])"
   ]
  },
  {
   "cell_type": "code",
   "execution_count": 3,
   "id": "176cc11e",
   "metadata": {},
   "outputs": [
    {
     "data": {
      "text/plain": [
       "array([[ -5,  15],\n",
       "       [-10,  10]])"
      ]
     },
     "execution_count": 3,
     "metadata": {},
     "output_type": "execute_result"
    }
   ],
   "source": [
    "A2 = A@A\n",
    "A2"
   ]
  },
  {
   "cell_type": "code",
   "execution_count": 4,
   "id": "2f86d78f",
   "metadata": {},
   "outputs": [
    {
     "data": {
      "text/plain": [
       "100.00000000000004"
      ]
     },
     "execution_count": 4,
     "metadata": {},
     "output_type": "execute_result"
    }
   ],
   "source": [
    "det(A2)"
   ]
  },
  {
   "cell_type": "code",
   "execution_count": 5,
   "id": "c5d1d9fd",
   "metadata": {},
   "outputs": [
    {
     "data": {
      "text/plain": [
       "array([[ 1,  0],\n",
       "       [-1,  2]])"
      ]
     },
     "execution_count": 5,
     "metadata": {},
     "output_type": "execute_result"
    }
   ],
   "source": [
    "C.T"
   ]
  },
  {
   "cell_type": "code",
   "execution_count": 6,
   "id": "c66b08ab",
   "metadata": {},
   "outputs": [
    {
     "data": {
      "text/plain": [
       "array([[ 0.1 , -0.15],\n",
       "       [ 0.1 , -0.05]])"
      ]
     },
     "execution_count": 6,
     "metadata": {},
     "output_type": "execute_result"
    }
   ],
   "source": [
    "inv(A2)"
   ]
  },
  {
   "cell_type": "code",
   "execution_count": 7,
   "id": "a2981324",
   "metadata": {},
   "outputs": [
    {
     "data": {
      "text/plain": [
       "array([[-1.75,  0.7 ],\n",
       "       [ 0.15, -2.1 ]])"
      ]
     },
     "execution_count": 7,
     "metadata": {},
     "output_type": "execute_result"
    }
   ],
   "source": [
    "X=(inv(A2) @ C.T ) - B\n",
    "X"
   ]
  },
  {
   "cell_type": "code",
   "execution_count": 8,
   "id": "7a5bbe21",
   "metadata": {},
   "outputs": [
    {
     "data": {
      "text/plain": [
       "array([[ 1.00000000e+00, -1.11022302e-15],\n",
       "       [-1.00000000e+00,  2.00000000e+00]])"
      ]
     },
     "execution_count": 8,
     "metadata": {},
     "output_type": "execute_result"
    }
   ],
   "source": [
    "A2 @ (X+B)"
   ]
  },
  {
   "cell_type": "code",
   "execution_count": 9,
   "id": "7068a3c3",
   "metadata": {},
   "outputs": [
    {
     "data": {
      "text/plain": [
       "array([[ 1,  0],\n",
       "       [-1,  2]])"
      ]
     },
     "execution_count": 9,
     "metadata": {},
     "output_type": "execute_result"
    }
   ],
   "source": [
    "C.T"
   ]
  },
  {
   "cell_type": "code",
   "execution_count": 10,
   "id": "80ba19fe",
   "metadata": {},
   "outputs": [
    {
     "data": {
      "text/plain": [
       "array([[ 0.25, -0.3 ],\n",
       "       [ 0.15, -0.1 ]])"
      ]
     },
     "execution_count": 10,
     "metadata": {},
     "output_type": "execute_result"
    }
   ],
   "source": [
    "inv(A2)@C.T"
   ]
  },
  {
   "cell_type": "code",
   "execution_count": 11,
   "id": "c8725cfa",
   "metadata": {},
   "outputs": [
    {
     "data": {
      "text/plain": [
       "array([[0., 0., 1.],\n",
       "       [1., 0., 0.],\n",
       "       [0., 1., 0.]])"
      ]
     },
     "execution_count": 11,
     "metadata": {},
     "output_type": "execute_result"
    }
   ],
   "source": [
    "A = np.array([[1,0,1],[1,1,0],[0,1,1]])\n",
    "B = A - np.eye(3)\n",
    "B"
   ]
  },
  {
   "cell_type": "code",
   "execution_count": 12,
   "id": "1f7b7a37",
   "metadata": {},
   "outputs": [
    {
     "data": {
      "text/plain": [
       "array([[0., 1., 0.],\n",
       "       [0., 0., 1.],\n",
       "       [1., 0., 0.]])"
      ]
     },
     "execution_count": 12,
     "metadata": {},
     "output_type": "execute_result"
    }
   ],
   "source": [
    "B@B"
   ]
  },
  {
   "cell_type": "code",
   "execution_count": null,
   "id": "0e5cbd83",
   "metadata": {},
   "outputs": [],
   "source": []
  }
 ],
 "metadata": {
  "kernelspec": {
   "display_name": "Python 3 (ipykernel)",
   "language": "python",
   "name": "python3"
  },
  "language_info": {
   "codemirror_mode": {
    "name": "ipython",
    "version": 3
   },
   "file_extension": ".py",
   "mimetype": "text/x-python",
   "name": "python",
   "nbconvert_exporter": "python",
   "pygments_lexer": "ipython3",
   "version": "3.8.10"
  }
 },
 "nbformat": 4,
 "nbformat_minor": 5
}
