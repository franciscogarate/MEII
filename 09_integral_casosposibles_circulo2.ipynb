{
 "cells": [
  {
   "cell_type": "code",
   "execution_count": null,
   "id": "03cfd158",
   "metadata": {},
   "outputs": [],
   "source": [
    "import matplotlib.pyplot as plt\n",
    "import numpy as np"
   ]
  },
  {
   "cell_type": "code",
   "execution_count": null,
   "id": "4070d99b",
   "metadata": {},
   "outputs": [],
   "source": [
    "# Definimos la función y los valores de x\n",
    "x = np.linspace(-2, 2, 1000)\n",
    "y1 = np.sqrt(4 - x**2)\n",
    "#y2 = -np.sqrt(4 - x**2)"
   ]
  },
  {
   "cell_type": "code",
   "execution_count": null,
   "id": "b3e05e72",
   "metadata": {},
   "outputs": [],
   "source": [
    "# Creamos la figura y los ejes\n",
    "fig, ax = plt.subplots()"
   ]
  },
  {
   "cell_type": "code",
   "execution_count": null,
   "id": "c15ec1b7",
   "metadata": {},
   "outputs": [],
   "source": [
    "# Configurar la figura\n",
    "ax.spines['left'].set_position('zero')  # mover el eje y al centro\n",
    "ax.spines['bottom'].set_position('zero')  # mover el eje x al centro\n",
    "ax.spines['right'].set_color('none')  # ocultar el borde derecho\n",
    "ax.spines['top'].set_color('none')  # ocultar el borde superior\n",
    "ax.xaxis.set_ticks_position('bottom')  # ubicar las marcas del eje x en la parte inferior\n",
    "ax.yaxis.set_ticks_position('left')  # ubicar las marcas del eje y en la parte izquierda\n",
    "ax.spines['left'].set_color('black')  # establecer el color del eje y en negro\n",
    "ax.spines['bottom'].set_color('black')  # establecer el color del eje x en negro"
   ]
  },
  {
   "cell_type": "code",
   "execution_count": null,
   "id": "b5367d7d",
   "metadata": {},
   "outputs": [],
   "source": [
    "# Graficamos las funciones\n",
    "ax.plot(x, y1, label='$y = \\dfrac{\\sqrt{16-2x^2}}{2}$', color='r')\n",
    "#ax.plot(x, y2, color='c')"
   ]
  },
  {
   "cell_type": "code",
   "execution_count": null,
   "id": "aebdce0e",
   "metadata": {},
   "outputs": [],
   "source": [
    "# Configuramos los ejes y la leyenda\n",
    "ax.set_xlim([-2.1, 2.1])\n",
    "ax.set_ylim([-1, 2.1])\n",
    "ax.legend()"
   ]
  },
  {
   "cell_type": "code",
   "execution_count": null,
   "id": "d9b35541",
   "metadata": {},
   "outputs": [],
   "source": [
    "# Mostramos la figura\n",
    "fig.set_size_inches(5, 4)\n",
    "plt.savefig('../images/fig7_ejer_casosposibles7.png', format='png', transparent=True)\n",
    "#plt.show()"
   ]
  }
 ],
 "metadata": {
  "jupytext": {
   "cell_metadata_filter": "-all",
   "main_language": "python",
   "notebook_metadata_filter": "-all"
  }
 },
 "nbformat": 4,
 "nbformat_minor": 5
}
