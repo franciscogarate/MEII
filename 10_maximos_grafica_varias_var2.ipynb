{
 "cells": [
  {
   "cell_type": "code",
   "execution_count": null,
   "id": "af0ab35e",
   "metadata": {
    "lines_to_next_cell": 1
   },
   "outputs": [],
   "source": [
    "import matplotlib.pyplot as plt\n",
    "from mpl_toolkits.mplot3d import Axes3D\n",
    "import numpy as np"
   ]
  },
  {
   "cell_type": "code",
   "execution_count": null,
   "id": "f3ecf1ca",
   "metadata": {
    "lines_to_next_cell": 1
   },
   "outputs": [],
   "source": [
    "# Definir la función\n",
    "def f(x, y):\n",
    "    return (x-3)**2 + (y-1)**2"
   ]
  },
  {
   "cell_type": "code",
   "execution_count": null,
   "id": "c673d5bd",
   "metadata": {},
   "outputs": [],
   "source": [
    "# Crear los datos para los ejes x, y y z\n",
    "x = np.linspace(-2, 4, 100)\n",
    "y = np.linspace(-2, 3, 100)\n",
    "X, Y = np.meshgrid(x, y)\n",
    "Z = f(X, Y)"
   ]
  },
  {
   "cell_type": "code",
   "execution_count": null,
   "id": "7c8bd24d",
   "metadata": {},
   "outputs": [],
   "source": [
    "# Crear la figura y el eje 3D\n",
    "fig = plt.figure()\n",
    "ax = fig.add_subplot(111, projection='3d')"
   ]
  },
  {
   "cell_type": "code",
   "execution_count": null,
   "id": "3e8986f8",
   "metadata": {},
   "outputs": [],
   "source": [
    "# Graficar la superficie\n",
    "ax.plot_surface(X, Y, Z, cmap='Oranges_r')"
   ]
  },
  {
   "cell_type": "code",
   "execution_count": null,
   "id": "939924d6",
   "metadata": {},
   "outputs": [],
   "source": [
    "# Agregar etiquetas de los ejes y título\n",
    "ax.set_xlabel('x')\n",
    "ax.set_ylabel('y')\n",
    "ax.set_zlabel('f(x,y)')\n",
    "ax.set_title('Gráfica de (x-3)^2 + (y-1)^2')\n",
    "plt.annotate('minimo rela', xy=(3, 1), xytext=(3, 3.5), arrowprops=dict(facecolor='black', shrink=0.05))"
   ]
  },
  {
   "cell_type": "code",
   "execution_count": null,
   "id": "86880ecd",
   "metadata": {},
   "outputs": [],
   "source": [
    "# Mostrar la figura\n",
    "plt.show()"
   ]
  }
 ],
 "metadata": {
  "jupytext": {
   "cell_metadata_filter": "-all",
   "main_language": "python",
   "notebook_metadata_filter": "-all"
  }
 },
 "nbformat": 4,
 "nbformat_minor": 5
}
