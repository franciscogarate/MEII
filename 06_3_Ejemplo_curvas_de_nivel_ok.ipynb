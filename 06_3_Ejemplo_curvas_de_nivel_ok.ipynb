{
 "cells": [
  {
   "cell_type": "code",
   "execution_count": null,
   "id": "08ea21e3",
   "metadata": {
    "lines_to_next_cell": 1
   },
   "outputs": [],
   "source": [
    "import matplotlib.pyplot as plt\n",
    "from mpl_toolkits.mplot3d import Axes3D\n",
    "import numpy as np"
   ]
  },
  {
   "cell_type": "code",
   "execution_count": null,
   "id": "2777c1be",
   "metadata": {
    "lines_to_next_cell": 1
   },
   "outputs": [],
   "source": [
    "def eliptic_paraboloid(x, y):\n",
    "  z = (x**2 + y**2)\n",
    "  return z"
   ]
  },
  {
   "cell_type": "code",
   "execution_count": null,
   "id": "9745264a",
   "metadata": {},
   "outputs": [],
   "source": [
    "x, y = np.meshgrid(np.linspace(-5, 5, 100), np.linspace(-5, 5, 100))\n",
    "z = eliptic_paraboloid(x, y)"
   ]
  },
  {
   "cell_type": "code",
   "execution_count": null,
   "id": "95a4f358",
   "metadata": {},
   "outputs": [],
   "source": [
    "plt.figure()\n",
    "ax = plt.axes(projection='3d')\n",
    "ax.plot_surface(x, y, z, cmap='viridis')\n",
    "ax.contour(x, y, z, zdir='z', offset=-1, levels=[5,10,15])\n",
    "#ax.axhline(0, color='black', linewidth=.5)\n",
    "ax.axvline(0, color='black', linewidth=.5)\n",
    "plt.xlabel('x')\n",
    "plt.ylabel('y')\n",
    "#plt.axis('off')\n",
    "#plt.grid(alpha=.5)\n",
    "plt.show()\n",
    "#plt.savefig('fig6_curvas_1.png', format='png', transparent=True)"
   ]
  },
  {
   "cell_type": "code",
   "execution_count": null,
   "id": "627e0f73",
   "metadata": {},
   "outputs": [],
   "source": [
    "plt.figure(figsize=(4, 4))\n",
    "plt.axhline(0, color='black', linewidth=.5)\n",
    "plt.axvline(0, color='black', linewidth=.5)\n",
    "plt.contour(x, y, z, levels=[5,10,15])\n",
    "plt.xlabel('x')\n",
    "plt.ylabel('y')\n",
    "#plt.title('Curva de niveles')\n",
    "plt.show()\n",
    "#plt.savefig('fig6_curvas_2.png', format='png', transparent=True)"
   ]
  }
 ],
 "metadata": {
  "jupytext": {
   "cell_metadata_filter": "-all",
   "main_language": "python",
   "notebook_metadata_filter": "-all"
  }
 },
 "nbformat": 4,
 "nbformat_minor": 5
}
