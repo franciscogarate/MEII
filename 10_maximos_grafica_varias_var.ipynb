{
 "cells": [
  {
   "cell_type": "code",
   "execution_count": null,
   "id": "9aa044d1",
   "metadata": {
    "lines_to_next_cell": 1
   },
   "outputs": [],
   "source": [
    "import matplotlib.pyplot as plt\n",
    "from mpl_toolkits.mplot3d import Axes3D\n",
    "import numpy as np"
   ]
  },
  {
   "cell_type": "code",
   "execution_count": null,
   "id": "ed680ee0",
   "metadata": {
    "lines_to_next_cell": 1
   },
   "outputs": [],
   "source": [
    "# Definir la función\n",
    "def f(x, y):\n",
    "    return -x**4 + 4*x**3 - 3*x**2 + y**2"
   ]
  },
  {
   "cell_type": "code",
   "execution_count": null,
   "id": "8b9fa042",
   "metadata": {},
   "outputs": [],
   "source": [
    "# Crear los datos para los ejes x, y y z\n",
    "x = np.linspace(-2, 4, 100)\n",
    "y = np.linspace(-2, 2, 100)\n",
    "X, Y = np.meshgrid(x, y)\n",
    "Z = f(X, Y)"
   ]
  },
  {
   "cell_type": "code",
   "execution_count": null,
   "id": "6f0813fe",
   "metadata": {},
   "outputs": [],
   "source": [
    "# Crear la figura y el eje 3D\n",
    "fig = plt.figure()\n",
    "ax = fig.add_subplot(111, projection='3d')"
   ]
  },
  {
   "cell_type": "code",
   "execution_count": null,
   "id": "e71f00c4",
   "metadata": {},
   "outputs": [],
   "source": [
    "# Graficar la superficie\n",
    "ax.plot_surface(X, Y, Z)"
   ]
  },
  {
   "cell_type": "code",
   "execution_count": null,
   "id": "386be2dc",
   "metadata": {},
   "outputs": [],
   "source": [
    "# Agregar etiquetas de los ejes y título\n",
    "ax.set_xlabel('x')\n",
    "ax.set_ylabel('y')\n",
    "ax.set_zlabel('f(x,y)')\n",
    "ax.set_title('Gráfica de f(x,y)')"
   ]
  },
  {
   "cell_type": "code",
   "execution_count": null,
   "id": "c47c2861",
   "metadata": {},
   "outputs": [],
   "source": [
    "# Mostrar la figura\n",
    "plt.show()"
   ]
  }
 ],
 "metadata": {
  "jupytext": {
   "cell_metadata_filter": "-all",
   "main_language": "python",
   "notebook_metadata_filter": "-all"
  }
 },
 "nbformat": 4,
 "nbformat_minor": 5
}
