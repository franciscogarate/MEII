{
 "cells": [
  {
   "cell_type": "code",
   "execution_count": null,
   "id": "3fa63273",
   "metadata": {
    "lines_to_next_cell": 1
   },
   "outputs": [],
   "source": [
    "import numpy as np\n",
    "import matplotlib.pyplot as plt\n",
    "from mpl_toolkits.mplot3d import Axes3D"
   ]
  },
  {
   "cell_type": "code",
   "execution_count": null,
   "id": "e7791d8e",
   "metadata": {
    "lines_to_next_cell": 1
   },
   "outputs": [],
   "source": [
    "def f(x,y):\n",
    "    return x**2 + x*y + y**2 + 5*x -11*y + 1"
   ]
  },
  {
   "cell_type": "code",
   "execution_count": null,
   "id": "7da6deaf",
   "metadata": {},
   "outputs": [],
   "source": [
    "fig = plt.figure()\n",
    "ax = fig.add_subplot(111, projection='3d')"
   ]
  },
  {
   "cell_type": "code",
   "execution_count": null,
   "id": "49145b73",
   "metadata": {},
   "outputs": [],
   "source": [
    "x = np.linspace(-25, 15, 100)\n",
    "y = np.linspace(-25, 25, 100)\n",
    "X, Y = np.meshgrid(x, y)\n",
    "Z = f(X,Y)"
   ]
  },
  {
   "cell_type": "code",
   "execution_count": null,
   "id": "e0ffa6a6",
   "metadata": {},
   "outputs": [],
   "source": [
    "# Gráfica 3D de la función\n",
    "ax.plot_surface(X, Y, Z, cmap='viridis')"
   ]
  },
  {
   "cell_type": "code",
   "execution_count": null,
   "id": "d479fc3a",
   "metadata": {},
   "outputs": [],
   "source": [
    "#ax.grid(False)\n",
    "ax.contour(X, Y, Z, zdir='z', offset=-3, cmap='coolwarm')\n",
    "ax.set_xlabel('x')\n",
    "ax.set_ylabel('y')\n",
    "ax.set_zlabel('f(x,y)')\n",
    "plt.show()"
   ]
  }
 ],
 "metadata": {
  "jupytext": {
   "cell_metadata_filter": "-all",
   "main_language": "python",
   "notebook_metadata_filter": "-all"
  }
 },
 "nbformat": 4,
 "nbformat_minor": 5
}
