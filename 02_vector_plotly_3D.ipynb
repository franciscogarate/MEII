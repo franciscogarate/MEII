{
 "cells": [
  {
   "cell_type": "code",
   "execution_count": null,
   "id": "ef0e1613",
   "metadata": {
    "lines_to_next_cell": 1
   },
   "outputs": [],
   "source": [
    "import numpy as np \n",
    "import plotly.graph_objs as go"
   ]
  },
  {
   "cell_type": "code",
   "execution_count": null,
   "id": "2e6dd452",
   "metadata": {
    "lines_to_next_cell": 1
   },
   "outputs": [],
   "source": [
    "def vector_plot(tvects,is_vect=True,orig=[0,0,0]):\n",
    "    \"\"\"Plot vectors using plotly\"\"\"\n",
    "\n",
    "    if is_vect:\n",
    "        if not hasattr(orig[0],\"__iter__\"):\n",
    "            coords = [[orig,np.sum([orig,v],axis=0)] for v in tvects]\n",
    "        else:\n",
    "            coords = [[o,np.sum([o,v],axis=0)] for o,v in zip(orig,tvects)]\n",
    "    else:\n",
    "        coords = tvects\n",
    "\n",
    "    data = []\n",
    "    for i,c in enumerate(coords):\n",
    "        X1, Y1, Z1 = zip(c[0])\n",
    "        X2, Y2, Z2 = zip(c[1])\n",
    "        vector = go.Scatter3d(x = [X1[0],X2[0]],\n",
    "                              y = [Y1[0],Y2[0]],\n",
    "                              z = [Z1[0],Z2[0]],\n",
    "                              marker = dict(size = [0,5],\n",
    "                                            color = ['blue'],\n",
    "                                            line=dict(width=5,\n",
    "                                                      color='DarkSlateGrey')),\n",
    "                              name = 'Vector'+str(i+1))\n",
    "        data.append(vector)\n",
    "\n",
    "    layout = go.Layout(\n",
    "             margin = dict(l = 4,\n",
    "                           r = 4,\n",
    "                           b = 4,\n",
    "                           t = 4)\n",
    "                  )\n",
    "    fig = go.Figure(data=data,layout=layout)\n",
    "    fig.show()"
   ]
  },
  {
   "cell_type": "markdown",
   "id": "4a668b7b",
   "metadata": {},
   "source": [
    "p0 = [0.799319, -3.477045e-01, 0.490093]\n",
    "p1 = [0.852512, 9.113778e-16, -0.522708]\n",
    "p2 = [0.296422, 9.376042e-01, 0.181748]"
   ]
  },
  {
   "cell_type": "code",
   "execution_count": null,
   "id": "137c6ae2",
   "metadata": {},
   "outputs": [],
   "source": [
    "a = np.array([[1,2,3],[1,1,1],[3,1,2]])\n",
    "M = np.array([[0,0,0],[2,3,5]])"
   ]
  },
  {
   "cell_type": "code",
   "execution_count": null,
   "id": "5f03d4f5",
   "metadata": {},
   "outputs": [],
   "source": [
    "#vector_plot(a)\n",
    "vector_plot(M)"
   ]
  }
 ],
 "metadata": {
  "jupytext": {
   "cell_metadata_filter": "-all",
   "main_language": "python",
   "notebook_metadata_filter": "-all"
  }
 },
 "nbformat": 4,
 "nbformat_minor": 5
}
