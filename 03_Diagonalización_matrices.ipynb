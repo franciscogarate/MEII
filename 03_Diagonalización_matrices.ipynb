{
 "cells": [
  {
   "cell_type": "markdown",
   "id": "2762526b",
   "metadata": {},
   "source": [
    "## Diagonalización de matrices"
   ]
  },
  {
   "cell_type": "code",
   "execution_count": 1,
   "id": "d0690cec",
   "metadata": {},
   "outputs": [],
   "source": [
    "import numpy as np\n",
    "from numpy.linalg import inv, det, matrix_rank"
   ]
  },
  {
   "cell_type": "markdown",
   "id": "5eab08ff",
   "metadata": {},
   "source": [
    "Diagonalizar la matriz A=$\\begin{pmatrix}\n",
    "0 & 0 & 1\\\\\n",
    "-4 & 2 & 2\\\\\n",
    "-2 & 0 & 3\n",
    "\\end{pmatrix}$"
   ]
  },
  {
   "cell_type": "code",
   "execution_count": 2,
   "id": "5c248282",
   "metadata": {},
   "outputs": [
    {
     "data": {
      "text/plain": [
       "array([[3, 1, 0],\n",
       "       [1, 3, 0],\n",
       "       [0, 0, 3]])"
      ]
     },
     "execution_count": 2,
     "metadata": {},
     "output_type": "execute_result"
    }
   ],
   "source": [
    "A = np.array([[3,1,0],[1,3,0],[0,0,3]])\n",
    "A"
   ]
  },
  {
   "cell_type": "code",
   "execution_count": 3,
   "id": "a64c0844",
   "metadata": {},
   "outputs": [],
   "source": [
    "P = np.array([[1,0,1],[1,0,-1],[0,1,0]])\n",
    "D = np.array([[4,0,0],[0,3,0],[0,0,2]])"
   ]
  },
  {
   "cell_type": "code",
   "execution_count": 4,
   "id": "7d063725",
   "metadata": {},
   "outputs": [
    {
     "data": {
      "text/plain": [
       "array([[ 1,  0,  1],\n",
       "       [ 1,  0, -1],\n",
       "       [ 0,  1,  0]])"
      ]
     },
     "execution_count": 4,
     "metadata": {},
     "output_type": "execute_result"
    }
   ],
   "source": [
    "P"
   ]
  },
  {
   "cell_type": "code",
   "execution_count": 5,
   "id": "ebec976a",
   "metadata": {},
   "outputs": [
    {
     "data": {
      "text/plain": [
       "array([[ 0.5,  0.5,  0. ],\n",
       "       [ 0. ,  0. ,  1. ],\n",
       "       [ 0.5, -0.5, -0. ]])"
      ]
     },
     "execution_count": 5,
     "metadata": {},
     "output_type": "execute_result"
    }
   ],
   "source": [
    "inv(P)"
   ]
  },
  {
   "cell_type": "code",
   "execution_count": 6,
   "id": "6cff7f3a",
   "metadata": {},
   "outputs": [
    {
     "data": {
      "text/plain": [
       "array([[3., 1., 0.],\n",
       "       [1., 3., 0.],\n",
       "       [0., 0., 3.]])"
      ]
     },
     "execution_count": 6,
     "metadata": {},
     "output_type": "execute_result"
    }
   ],
   "source": [
    "P @ D @ inv(P)"
   ]
  },
  {
   "cell_type": "code",
   "execution_count": 7,
   "id": "7e053401",
   "metadata": {},
   "outputs": [
    {
     "data": {
      "text/plain": [
       "array([[36, 28,  0],\n",
       "       [28, 36,  0],\n",
       "       [ 0,  0, 27]])"
      ]
     },
     "execution_count": 7,
     "metadata": {},
     "output_type": "execute_result"
    }
   ],
   "source": [
    "A @ A @ A"
   ]
  },
  {
   "cell_type": "code",
   "execution_count": 8,
   "id": "4db0724c",
   "metadata": {},
   "outputs": [
    {
     "data": {
      "text/plain": [
       "array([[36., 28.,  0.],\n",
       "       [28., 36.,  0.],\n",
       "       [ 0.,  0., 27.]])"
      ]
     },
     "execution_count": 8,
     "metadata": {},
     "output_type": "execute_result"
    }
   ],
   "source": [
    "P @ D**3 @ inv(P)"
   ]
  },
  {
   "cell_type": "code",
   "execution_count": null,
   "id": "f3d35c53",
   "metadata": {},
   "outputs": [],
   "source": []
  }
 ],
 "metadata": {
  "kernelspec": {
   "display_name": "Python 3 (ipykernel)",
   "language": "python",
   "name": "python3"
  },
  "language_info": {
   "codemirror_mode": {
    "name": "ipython",
    "version": 3
   },
   "file_extension": ".py",
   "mimetype": "text/x-python",
   "name": "python",
   "nbconvert_exporter": "python",
   "pygments_lexer": "ipython3",
   "version": "3.8.10"
  }
 },
 "nbformat": 4,
 "nbformat_minor": 5
}
