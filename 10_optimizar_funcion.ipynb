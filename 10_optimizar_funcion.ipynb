{
 "cells": [
  {
   "cell_type": "code",
   "execution_count": null,
   "id": "2f88c884",
   "metadata": {
    "lines_to_next_cell": 1
   },
   "outputs": [],
   "source": [
    "# Importamos el módulo scipy.optimize\n",
    "from scipy.optimize import minimize, rosen"
   ]
  },
  {
   "cell_type": "code",
   "execution_count": null,
   "id": "aa6c76bb",
   "metadata": {},
   "outputs": [],
   "source": [
    "# Definimos la función que queremos minimizar\n",
    "def func(x, y):\n",
    "  z = 2 * x**2 + y**2\n",
    "  return z"
   ]
  },
  {
   "cell_type": "code",
   "execution_count": null,
   "id": "1068e3e2",
   "metadata": {},
   "outputs": [],
   "source": [
    "# Ejecutamos la función minimize\n",
    "result = minimize(rosen,func(0,0))"
   ]
  },
  {
   "cell_type": "code",
   "execution_count": null,
   "id": "a46513a9",
   "metadata": {},
   "outputs": [],
   "source": [
    "# Mostramos el resultado\n",
    "print(result)"
   ]
  }
 ],
 "metadata": {
  "jupytext": {
   "cell_metadata_filter": "-all",
   "main_language": "python",
   "notebook_metadata_filter": "-all"
  }
 },
 "nbformat": 4,
 "nbformat_minor": 5
}
