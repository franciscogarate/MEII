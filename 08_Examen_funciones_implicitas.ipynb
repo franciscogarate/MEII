{
 "cells": [
  {
   "cell_type": "code",
   "execution_count": 1,
   "id": "eafef8dd-26b2-4d62-9751-d6103cdc1f8d",
   "metadata": {},
   "outputs": [],
   "source": [
    "import numpy as np\n",
    "from numpy.linalg import inv, matrix_rank, det"
   ]
  },
  {
   "cell_type": "code",
   "execution_count": 2,
   "id": "7da967e1-1a6a-4dad-a704-ef9857b10d79",
   "metadata": {},
   "outputs": [],
   "source": [
    "A = np.array([[12,-2],[3,-2]])\n",
    "B = np.array([[-2,2],[12,0]])"
   ]
  },
  {
   "cell_type": "code",
   "execution_count": 3,
   "id": "699bb7dd-e795-4e95-970f-51a1949dc4a6",
   "metadata": {},
   "outputs": [
    {
     "data": {
      "text/plain": [
       "array([[12, -2],\n",
       "       [ 3, -2]])"
      ]
     },
     "execution_count": 3,
     "metadata": {},
     "output_type": "execute_result"
    }
   ],
   "source": [
    "A"
   ]
  },
  {
   "cell_type": "code",
   "execution_count": 20,
   "id": "2b0a71d4",
   "metadata": {},
   "outputs": [
    {
     "data": {
      "text/plain": [
       "array([[-2.,  2.],\n",
       "       [-3., 12.]])"
      ]
     },
     "execution_count": 20,
     "metadata": {},
     "output_type": "execute_result"
    }
   ],
   "source": [
    "X = inv(A)*det(A)\n",
    "X"
   ]
  },
  {
   "cell_type": "code",
   "execution_count": 5,
   "id": "3857b40c-a484-4755-9b80-161e5ad45b9a",
   "metadata": {},
   "outputs": [
    {
     "data": {
      "text/plain": [
       "array([[-2,  2],\n",
       "       [12,  0]])"
      ]
     },
     "execution_count": 5,
     "metadata": {},
     "output_type": "execute_result"
    }
   ],
   "source": [
    "B"
   ]
  },
  {
   "cell_type": "code",
   "execution_count": 22,
   "id": "c423bb30",
   "metadata": {},
   "outputs": [
    {
     "data": {
      "text/plain": [
       "array([[ 28.,  -4.],\n",
       "       [150.,  -6.]])"
      ]
     },
     "execution_count": 22,
     "metadata": {},
     "output_type": "execute_result"
    }
   ],
   "source": [
    "X@B"
   ]
  },
  {
   "cell_type": "code",
   "execution_count": 27,
   "id": "d1a80a84",
   "metadata": {},
   "outputs": [
    {
     "data": {
      "text/plain": [
       "9.0"
      ]
     },
     "execution_count": 27,
     "metadata": {},
     "output_type": "execute_result"
    }
   ],
   "source": [
    "1/2*(((4/2*2**2)-2**4/4)-((4/2)-(1/4)))"
   ]
  },
  {
   "cell_type": "code",
   "execution_count": 33,
   "id": "91d80385",
   "metadata": {},
   "outputs": [
    {
     "data": {
      "text/plain": [
       "2.25"
      ]
     },
     "execution_count": 33,
     "metadata": {},
     "output_type": "execute_result"
    }
   ],
   "source": [
    "8-4-(2-1/4)"
   ]
  },
  {
   "cell_type": "code",
   "execution_count": 34,
   "id": "fb8247b0",
   "metadata": {},
   "outputs": [
    {
     "data": {
      "text/plain": [
       "9"
      ]
     },
     "execution_count": 34,
     "metadata": {},
     "output_type": "execute_result"
    }
   ],
   "source": [
    "16-7"
   ]
  },
  {
   "cell_type": "markdown",
   "id": "b19fb1a5-758e-4c2b-b64b-099413e7df28",
   "metadata": {},
   "source": [
    "Examen extraordinario"
   ]
  },
  {
   "cell_type": "code",
   "execution_count": 1,
   "id": "61c10119-b13d-4f53-aa7e-190fe0108dd5",
   "metadata": {},
   "outputs": [],
   "source": [
    "import numpy as np\n",
    "from numpy.linalg import inv, matrix_rank, det"
   ]
  },
  {
   "cell_type": "code",
   "execution_count": 2,
   "id": "d20c32cb-d04d-40ac-9c47-44fc34929ef0",
   "metadata": {},
   "outputs": [
    {
     "name": "stdout",
     "output_type": "stream",
     "text": [
      "[[8 2]\n",
      " [3 3]]\n",
      "[[ 0 -4]\n",
      " [ 8 -3]]\n"
     ]
    },
    {
     "data": {
      "text/plain": [
       "(None, None)"
      ]
     },
     "execution_count": 2,
     "metadata": {},
     "output_type": "execute_result"
    }
   ],
   "source": [
    "A = np.array([[8,2],[3,3]])\n",
    "B = np.array([[0,-4],[8,-3]])\n",
    "print(A), print(B)"
   ]
  },
  {
   "cell_type": "code",
   "execution_count": 13,
   "id": "e4f18300-2597-4fc6-9834-e1d106fd05d8",
   "metadata": {},
   "outputs": [
    {
     "data": {
      "text/plain": [
       "array([[ 0.88888889,  0.33333333],\n",
       "       [-3.55555556,  0.66666667]])"
      ]
     },
     "execution_count": 13,
     "metadata": {},
     "output_type": "execute_result"
    }
   ],
   "source": [
    "C = -inv(A)@B\n",
    "C"
   ]
  },
  {
   "cell_type": "code",
   "execution_count": 14,
   "id": "788c1bb4-8888-49fe-afe3-a66d0b956e4b",
   "metadata": {},
   "outputs": [
    {
     "data": {
      "text/plain": [
       "array([[ 16.,   6.],\n",
       "       [-64.,  12.]])"
      ]
     },
     "execution_count": 14,
     "metadata": {},
     "output_type": "execute_result"
    }
   ],
   "source": [
    "C *18"
   ]
  },
  {
   "cell_type": "code",
   "execution_count": null,
   "id": "00622ad4-bd2b-431d-bb62-817e0b8463fd",
   "metadata": {},
   "outputs": [],
   "source": []
  }
 ],
 "metadata": {
  "kernelspec": {
   "display_name": "Python 3 (ipykernel)",
   "language": "python",
   "name": "python3"
  },
  "language_info": {
   "codemirror_mode": {
    "name": "ipython",
    "version": 3
   },
   "file_extension": ".py",
   "mimetype": "text/x-python",
   "name": "python",
   "nbconvert_exporter": "python",
   "pygments_lexer": "ipython3",
   "version": "3.8.10"
  }
 },
 "nbformat": 4,
 "nbformat_minor": 5
}
