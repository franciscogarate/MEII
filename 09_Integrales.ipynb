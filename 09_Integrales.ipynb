{
 "cells": [
  {
   "cell_type": "code",
   "execution_count": null,
   "id": "047ec048",
   "metadata": {
    "lines_to_next_cell": 1
   },
   "outputs": [],
   "source": [
    "import scipy.integrate as spi"
   ]
  },
  {
   "cell_type": "code",
   "execution_count": null,
   "id": "7d74a236",
   "metadata": {
    "lines_to_next_cell": 1
   },
   "outputs": [],
   "source": [
    "def f(x, y):\n",
    "    return y + x"
   ]
  },
  {
   "cell_type": "code",
   "execution_count": null,
   "id": "b6d66692",
   "metadata": {},
   "outputs": [],
   "source": [
    "a = 0\n",
    "b = 2\n",
    "gfun = lambda x: 0\n",
    "hfun = lambda x: 1"
   ]
  },
  {
   "cell_type": "code",
   "execution_count": null,
   "id": "3f81fd10",
   "metadata": {},
   "outputs": [],
   "source": [
    "integ, error = spi.dblquad(f, a, b, gfun, hfun)"
   ]
  },
  {
   "cell_type": "code",
   "execution_count": null,
   "id": "291752db",
   "metadata": {},
   "outputs": [],
   "source": [
    "print(integ)"
   ]
  }
 ],
 "metadata": {
  "jupytext": {
   "cell_metadata_filter": "-all",
   "main_language": "python",
   "notebook_metadata_filter": "-all"
  }
 },
 "nbformat": 4,
 "nbformat_minor": 5
}
