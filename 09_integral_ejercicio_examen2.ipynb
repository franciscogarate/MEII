{
 "cells": [
  {
   "cell_type": "code",
   "execution_count": null,
   "id": "6041e406",
   "metadata": {},
   "outputs": [],
   "source": [
    "import matplotlib.pyplot as plt\n",
    "import numpy as np"
   ]
  },
  {
   "cell_type": "code",
   "execution_count": null,
   "id": "149e43de",
   "metadata": {},
   "outputs": [],
   "source": [
    "# Definimos la función y los valores de x\n",
    "x = np.linspace(-4, 4, 1000)\n",
    "y1 = np.sqrt(9 - x**2)\n",
    "y2 = -np.sqrt(9 - x**2)\n",
    "y3 = 3 - 3*x\n",
    "y4 = np.zeros_like(x)+0.02"
   ]
  },
  {
   "cell_type": "code",
   "execution_count": null,
   "id": "3564d19c",
   "metadata": {},
   "outputs": [],
   "source": [
    "# Creamos la figura y los ejes\n",
    "fig, ax = plt.subplots()"
   ]
  },
  {
   "cell_type": "code",
   "execution_count": null,
   "id": "4554086c",
   "metadata": {},
   "outputs": [],
   "source": [
    "# Configurar la figura\n",
    "ax.spines['left'].set_position('zero')  # mover el eje y al centro\n",
    "ax.spines['bottom'].set_position('zero')  # mover el eje x al centro\n",
    "ax.spines['right'].set_color('none')  # ocultar el borde derecho\n",
    "ax.spines['top'].set_color('none')  # ocultar el borde superior\n",
    "ax.xaxis.set_ticks_position('bottom')  # ubicar las marcas del eje x en la parte inferior\n",
    "ax.yaxis.set_ticks_position('left')  # ubicar las marcas del eje y en la parte izquierda\n",
    "ax.spines['left'].set_color('black')  # establecer el color del eje y en negro\n",
    "ax.spines['bottom'].set_color('black')  # establecer el color del eje x en negro"
   ]
  },
  {
   "cell_type": "code",
   "execution_count": null,
   "id": "02e65714",
   "metadata": {},
   "outputs": [],
   "source": [
    "# Graficamos las funciones\n",
    "ax.plot(x, y1, label='$x^2 + y^2 = 9$')\n",
    "ax.plot(x, y2, label='$x^2 + y^2 = 9$')\n",
    "ax.plot(x, y3, label='$y + 3x = 3$')\n",
    "ax.plot(x, y4, label='$y = 0$')"
   ]
  },
  {
   "cell_type": "code",
   "execution_count": null,
   "id": "7be625cb",
   "metadata": {},
   "outputs": [],
   "source": [
    "# Configuramos los ejes y la leyenda\n",
    "ax.set_xlim([-4, 4])\n",
    "ax.set_ylim([-4, 4])\n",
    "ax.legend()"
   ]
  },
  {
   "cell_type": "code",
   "execution_count": null,
   "id": "f110c55a",
   "metadata": {},
   "outputs": [],
   "source": [
    "# Mostramos la figura\n",
    "plt.show()"
   ]
  }
 ],
 "metadata": {
  "jupytext": {
   "cell_metadata_filter": "-all",
   "main_language": "python",
   "notebook_metadata_filter": "-all"
  }
 },
 "nbformat": 4,
 "nbformat_minor": 5
}
