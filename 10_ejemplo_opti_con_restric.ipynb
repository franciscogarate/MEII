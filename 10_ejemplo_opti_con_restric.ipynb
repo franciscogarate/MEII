{
 "cells": [
  {
   "cell_type": "code",
   "execution_count": null,
   "id": "0a34c9f1",
   "metadata": {},
   "outputs": [],
   "source": [
    "import numpy as np\n",
    "import matplotlib.pyplot as plt\n",
    "from mpl_toolkits.mplot3d import Axes3D"
   ]
  },
  {
   "cell_type": "code",
   "execution_count": null,
   "id": "f79fec6f",
   "metadata": {},
   "outputs": [],
   "source": [
    "fig = plt.figure()\n",
    "ax = fig.add_subplot(111, projection='3d')"
   ]
  },
  {
   "cell_type": "code",
   "execution_count": null,
   "id": "cd25d7f7",
   "metadata": {},
   "outputs": [],
   "source": [
    "x = np.linspace(-10, 10, 100)\n",
    "y = np.linspace(-10, 10, 100)\n",
    "X, Y = np.meshgrid(x, y)\n",
    "Z = -(X**2 / 4) - (Y**2 / 9) + 5"
   ]
  },
  {
   "cell_type": "code",
   "execution_count": null,
   "id": "f5316291",
   "metadata": {},
   "outputs": [],
   "source": [
    "#ax.plot_surface(X, Y, np.ones_like(Z)*4, alpha=0.5, color='blue')\n",
    "ax.plot_surface(X, Y, Z, alpha=0.5, color='Orange')"
   ]
  },
  {
   "cell_type": "code",
   "execution_count": null,
   "id": "58b07125",
   "metadata": {},
   "outputs": [],
   "source": [
    "x_cut = np.linspace(-10, 10, 100)\n",
    "y_cut = 3 - (x_cut / 2)\n",
    "z_cut = -(x_cut**2 / 4) - (y_cut**2 / 9) + 5"
   ]
  },
  {
   "cell_type": "code",
   "execution_count": null,
   "id": "1a785388",
   "metadata": {},
   "outputs": [],
   "source": [
    "# Agregar título y etiquetas de los ejes\n",
    "plt.xlabel('x')\n",
    "plt.ylabel('y')"
   ]
  },
  {
   "cell_type": "code",
   "execution_count": null,
   "id": "9c7911fb",
   "metadata": {},
   "outputs": [],
   "source": [
    "ax.plot(x_cut, y_cut, z_cut, color='red', linewidth=2)"
   ]
  },
  {
   "cell_type": "code",
   "execution_count": null,
   "id": "89a6d245",
   "metadata": {},
   "outputs": [],
   "source": [
    "plt.show()"
   ]
  }
 ],
 "metadata": {
  "jupytext": {
   "cell_metadata_filter": "-all",
   "main_language": "python",
   "notebook_metadata_filter": "-all"
  }
 },
 "nbformat": 4,
 "nbformat_minor": 5
}
