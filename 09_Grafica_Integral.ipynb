{
 "cells": [
  {
   "cell_type": "code",
   "execution_count": null,
   "id": "0f053ef9",
   "metadata": {
    "lines_to_next_cell": 1
   },
   "outputs": [],
   "source": [
    "import matplotlib.pyplot as plt\n",
    "import numpy as np"
   ]
  },
  {
   "cell_type": "code",
   "execution_count": null,
   "id": "cd08b986",
   "metadata": {
    "lines_to_next_cell": 1
   },
   "outputs": [],
   "source": [
    "# Función cuadrática.\n",
    "def f1(x):\n",
    "    return 2*(x**2) + 5*x - 2\n",
    "# Función lineal.\n",
    "def f2(x):\n",
    "    return 4*x + 1"
   ]
  },
  {
   "cell_type": "code",
   "execution_count": null,
   "id": "d33270cf",
   "metadata": {},
   "outputs": [],
   "source": [
    "# Valores del eje X que toma el gráfico.\n",
    "#x = range(-10, 15)\n",
    "x = np.linspace(-10,15,200)"
   ]
  },
  {
   "cell_type": "code",
   "execution_count": null,
   "id": "a66ca5ce",
   "metadata": {},
   "outputs": [],
   "source": [
    "# Graficar ambas funciones.\n",
    "plt.plot(x, [f1(i) for i in x])\n",
    "plt.plot(x, [f2(i) for i in x])\n",
    "# Establecer el color de los ejes.\n",
    "plt.axhline(0, color=\"black\")\n",
    "plt.axvline(0, color=\"black\")\n",
    "# Limitar los valores de los ejes.\n",
    "plt.xlim(-10, 10)\n",
    "plt.ylim(-10, 10)\n",
    "# Guardar gráfico como imágen PNG.\n",
    "# Mostrarlo.\n",
    "plt.show()"
   ]
  }
 ],
 "metadata": {
  "jupytext": {
   "cell_metadata_filter": "-all",
   "main_language": "python",
   "notebook_metadata_filter": "-all"
  }
 },
 "nbformat": 4,
 "nbformat_minor": 5
}
