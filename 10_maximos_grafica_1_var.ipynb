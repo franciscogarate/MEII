{
 "cells": [
  {
   "cell_type": "code",
   "execution_count": null,
   "id": "172a46af",
   "metadata": {
    "lines_to_next_cell": 1
   },
   "outputs": [],
   "source": [
    "import matplotlib.pyplot as plt\n",
    "import numpy as np"
   ]
  },
  {
   "cell_type": "code",
   "execution_count": null,
   "id": "71e95c07",
   "metadata": {
    "lines_to_next_cell": 1
   },
   "outputs": [],
   "source": [
    "def f(x):\n",
    "    return -(x-2)**2 + 4"
   ]
  },
  {
   "cell_type": "code",
   "execution_count": null,
   "id": "8e0fb377",
   "metadata": {},
   "outputs": [],
   "source": [
    "x = np.linspace(-1, 5, 100)\n",
    "y = f(x)"
   ]
  },
  {
   "cell_type": "code",
   "execution_count": null,
   "id": "a19e87de",
   "metadata": {},
   "outputs": [],
   "source": [
    "plt.plot(x, y)"
   ]
  },
  {
   "cell_type": "code",
   "execution_count": null,
   "id": "e803734a",
   "metadata": {},
   "outputs": [],
   "source": [
    "plt.annotate('Máximo absoluto', xy=(2, 4), xytext=(3, 3.5), arrowprops=dict(facecolor='black', shrink=0.05))\n",
    "#plt.annotate('Máximo local', xy=(1, 3), xytext=(-0.5, 3.5), arrowprops=dict(facecolor='black', shrink=0.05))\n",
    "#plt.ylim(5,-5)\n",
    "#plt.grid(True)\n",
    "#plt.xlabel('x')\n",
    "plt.ylabel('y')\n",
    "plt.title('Gráfico de $f(x) = -(x-2)^2 +4$')\n",
    "plt.annotate('c', xy=(2, -0.35))\n",
    "plt.annotate('x', xy=(2, 3.6))\n",
    "plt.axhline(y=0,color='grey', linewidth=1, alpha=0.5)\n",
    "#plt.show()\n",
    "plt.savefig('../images/fig7_funcion_1var_max.png', format='png', transparent=True)"
   ]
  }
 ],
 "metadata": {
  "jupytext": {
   "cell_metadata_filter": "-all",
   "main_language": "python",
   "notebook_metadata_filter": "-all"
  }
 },
 "nbformat": 4,
 "nbformat_minor": 5
}
